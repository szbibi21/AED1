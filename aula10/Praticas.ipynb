{
 "cells": [
  {
   "cell_type": "code",
   "execution_count": 1,
   "id": "c46a591c-a105-4c56-9bc4-a579578d18e9",
   "metadata": {},
   "outputs": [
    {
     "name": "stdout",
     "output_type": "stream",
     "text": [
      "Digite as idades das pessoas, uma por vez.\n",
      "Para terminar, digite 'fim'.\n",
      "------------------------------\n"
     ]
    },
    {
     "name": "stdin",
     "output_type": "stream",
     "text": [
      "Idade (ou 'fim'):  5\n",
      "Idade (ou 'fim'):  8\n",
      "Idade (ou 'fim'):  8\n",
      "Idade (ou 'fim'):  fim\n"
     ]
    },
    {
     "name": "stdout",
     "output_type": "stream",
     "text": [
      "------------------------------\n",
      "Entrada de dados finalizada.\n",
      "Você digitou 3 idades.\n",
      "As idades registradas são: [5, 8, 8]\n"
     ]
    }
   ],
   "source": [
    "def receber_idades():\n",
    "    \"\"\"\n",
    "    Recebe idades de pessoas de forma ilimitada até o usuário digitar 'fim'.\n",
    "    \"\"\"\n",
    "    idades = []  # Lista para armazenar as idades\n",
    "    print(\"Digite as idades das pessoas, uma por vez.\")\n",
    "    print(\"Para terminar, digite 'fim'.\")\n",
    "    print(\"-\" * 30)\n",
    "\n",
    "    while True:\n",
    "        entrada = input(\"Idade (ou 'fim'): \")\n",
    "\n",
    "        # Condição de parada: se a entrada for 'fim' (em qualquer caixa)\n",
    "        if entrada.lower() == 'fim':\n",
    "            print(\"-\" * 30)\n",
    "            print(\"Entrada de dados finalizada.\")\n",
    "            break  # Sai do loop\n",
    "\n",
    "        # Tenta converter a entrada para um número inteiro\n",
    "        try:\n",
    "            idade = int(entrada)\n",
    "            # Adiciona a idade à lista se for um número válido e positivo\n",
    "            if idade >= 0:\n",
    "                idades.append(idade)\n",
    "            else:\n",
    "                print(\"Idade inválida. Por favor, digite uma idade positiva.\")\n",
    "        except ValueError:\n",
    "            # Captura o erro se a entrada não for um número e nem 'fim'\n",
    "            print(\"Entrada inválida. Por favor, digite um número inteiro ou 'fim'.\")\n",
    "\n",
    "    return idades\n",
    "\n",
    "# Chamada da função para iniciar o programa\n",
    "lista_de_idades = receber_idades()\n",
    "\n",
    "# Exemplo de como você pode usar a lista de idades\n",
    "if lista_de_idades:\n",
    "    print(f\"Você digitou {len(lista_de_idades)} idades.\")\n",
    "    print(f\"As idades registradas são: {lista_de_idades}\")\n",
    "else:\n",
    "    print(\"Nenhuma idade foi registrada.\")"
   ]
  },
  {
   "cell_type": "code",
   "execution_count": null,
   "id": "fa81096b-4341-4b1f-bfc1-1bf4b2e2f8be",
   "metadata": {},
   "outputs": [],
   "source": []
  },
  {
   "cell_type": "code",
   "execution_count": 17,
   "id": "f49541d7-b67b-4ab9-97ee-c4c0a431c56a",
   "metadata": {},
   "outputs": [
    {
     "name": "stdin",
     "output_type": "stream",
     "text": [
      "Digite a idade <-1 para sair>:  8\n",
      "Digite a idade <-1 para sair>:  9\n",
      "Digite a idade <-1 para sair>:  4\n",
      "Digite a idade <-1 para sair>:  -1\n"
     ]
    },
    {
     "name": "stdout",
     "output_type": "stream",
     "text": [
      " Foram digitadas 3 idades.\n",
      "A idade media é 7.0\n"
     ]
    }
   ],
   "source": [
    "lista = []\n",
    "while True:\n",
    "    idade = int(input(\"Digite a idade <-1 para sair>: \"))\n",
    "    if idade == -1:\n",
    "        break\n",
    "    lista.append(idade)\n",
    "tupla = tuple (lista)\n",
    "qtd = len(tupla)\n",
    "soma = 0\n",
    "for i in tupla: \n",
    "    soma += i\n",
    "media = soma/qtd\n",
    "print(f\" Foram digitadas {qtd} idades.\")\n",
    "print(f\"A idade media é {media}\")"
   ]
  },
  {
   "cell_type": "code",
   "execution_count": null,
   "id": "90d19542-ada1-452d-9c84-375b4b51c9d1",
   "metadata": {},
   "outputs": [],
   "source": []
  }
 ],
 "metadata": {
  "kernelspec": {
   "display_name": "Python [conda env:anaconda3]",
   "language": "python",
   "name": "conda-env-anaconda3-py"
  },
  "language_info": {
   "codemirror_mode": {
    "name": "ipython",
    "version": 3
   },
   "file_extension": ".py",
   "mimetype": "text/x-python",
   "name": "python",
   "nbconvert_exporter": "python",
   "pygments_lexer": "ipython3",
   "version": "3.13.5"
  }
 },
 "nbformat": 4,
 "nbformat_minor": 5
}
