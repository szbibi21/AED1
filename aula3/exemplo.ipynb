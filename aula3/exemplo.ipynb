{
 "cells": [
  {
   "cell_type": "code",
   "execution_count": 1,
   "id": "a48442f7-7e1b-4089-933d-5e60617a6fb4",
   "metadata": {},
   "outputs": [
    {
     "data": {
      "text/plain": [
       "5"
      ]
     },
     "execution_count": 1,
     "metadata": {},
     "output_type": "execute_result"
    }
   ],
   "source": [
    "2+3"
   ]
  },
  {
   "cell_type": "code",
   "execution_count": 3,
   "id": "e467794e-a4c8-4c0d-b673-808b9ae998bf",
   "metadata": {},
   "outputs": [
    {
     "name": "stdout",
     "output_type": "stream",
     "text": [
      "Olá Mundo!\n"
     ]
    }
   ],
   "source": [
    "print(\"Olá Mundo!\")"
   ]
  },
  {
   "cell_type": "code",
   "execution_count": 5,
   "id": "fa4449b6-1eee-49fc-941a-f392e0cf3cc0",
   "metadata": {},
   "outputs": [],
   "source": [
    "x=70"
   ]
  },
  {
   "cell_type": "code",
   "execution_count": 7,
   "id": "bbf59860-317e-4d34-911b-8ef2e807da8b",
   "metadata": {},
   "outputs": [],
   "source": [
    "y=5"
   ]
  },
  {
   "cell_type": "code",
   "execution_count": 9,
   "id": "bdb2d05b-abeb-40fa-92c7-be2d87e8bdc5",
   "metadata": {},
   "outputs": [
    {
     "data": {
      "text/plain": [
       "70"
      ]
     },
     "execution_count": 9,
     "metadata": {},
     "output_type": "execute_result"
    }
   ],
   "source": [
    "x"
   ]
  },
  {
   "cell_type": "code",
   "execution_count": 11,
   "id": "5f201f88-3cac-436f-a5d4-3e3a2784f1ed",
   "metadata": {},
   "outputs": [
    {
     "name": "stdout",
     "output_type": "stream",
     "text": [
      "75\n"
     ]
    }
   ],
   "source": [
    "print(x+y)"
   ]
  },
  {
   "cell_type": "code",
   "execution_count": 13,
   "id": "3e175080-baab-4136-9842-06d8836fda30",
   "metadata": {},
   "outputs": [],
   "source": [
    "z = x + y"
   ]
  },
  {
   "cell_type": "code",
   "execution_count": 15,
   "id": "263f74ed-f114-497d-9879-3752f77d3691",
   "metadata": {},
   "outputs": [
    {
     "name": "stdout",
     "output_type": "stream",
     "text": [
      "75\n"
     ]
    }
   ],
   "source": [
    "print(z)"
   ]
  },
  {
   "cell_type": "code",
   "execution_count": 17,
   "id": "bc7c58c0-e9cd-4139-bfbb-85f98e10905b",
   "metadata": {},
   "outputs": [],
   "source": [
    "nome = \"Maria\""
   ]
  },
  {
   "cell_type": "code",
   "execution_count": 19,
   "id": "91b6a862-6c51-4a14-9c25-d6e21d8bc7b5",
   "metadata": {},
   "outputs": [
    {
     "ename": "SyntaxError",
     "evalue": "unterminated string literal (detected at line 1) (3233929136.py, line 1)",
     "output_type": "error",
     "traceback": [
      "\u001b[1;36m  Cell \u001b[1;32mIn[19], line 1\u001b[1;36m\u001b[0m\n\u001b[1;33m    nome = \"Maria'\u001b[0m\n\u001b[1;37m           ^\u001b[0m\n\u001b[1;31mSyntaxError\u001b[0m\u001b[1;31m:\u001b[0m unterminated string literal (detected at line 1)\n"
     ]
    }
   ],
   "source": [
    "nome = \"Maria'\n",
    "idade = \"25\"\n",
    "print(nome, \" tem \" , idade, \"anos de vida!\")"
   ]
  },
  {
   "cell_type": "code",
   "execution_count": 21,
   "id": "775b0d02-54dd-4cb9-922d-586c67bcfa55",
   "metadata": {},
   "outputs": [
    {
     "ename": "SyntaxError",
     "evalue": "unterminated string literal (detected at line 1) (3321903367.py, line 1)",
     "output_type": "error",
     "traceback": [
      "\u001b[1;36m  Cell \u001b[1;32mIn[21], line 1\u001b[1;36m\u001b[0m\n\u001b[1;33m    nome = \"Maria'\u001b[0m\n\u001b[1;37m           ^\u001b[0m\n\u001b[1;31mSyntaxError\u001b[0m\u001b[1;31m:\u001b[0m unterminated string literal (detected at line 1)\n"
     ]
    }
   ],
   "source": [
    "nome = \"Maria'\n",
    "idade = 25\n",
    "print(nome, \" tem \" , idade, \"anos de vida!\")"
   ]
  },
  {
   "cell_type": "code",
   "execution_count": 23,
   "id": "08f98424-656d-4e94-ae9d-5e280d55c273",
   "metadata": {},
   "outputs": [
    {
     "ename": "SyntaxError",
     "evalue": "unterminated string literal (detected at line 1) (1655838027.py, line 1)",
     "output_type": "error",
     "traceback": [
      "\u001b[1;36m  Cell \u001b[1;32mIn[23], line 1\u001b[1;36m\u001b[0m\n\u001b[1;33m    nome = \"Maria'\u001b[0m\n\u001b[1;37m           ^\u001b[0m\n\u001b[1;31mSyntaxError\u001b[0m\u001b[1;31m:\u001b[0m unterminated string literal (detected at line 1)\n"
     ]
    }
   ],
   "source": [
    "nome = \"Maria'\n",
    "idade = \"25\"\n",
    "print(nome, \" tem \" ,idade,\"anos de vida!\")"
   ]
  },
  {
   "cell_type": "code",
   "execution_count": 25,
   "id": "929e6353-78ea-4cc8-8c52-86948d46f9b8",
   "metadata": {},
   "outputs": [
    {
     "ename": "SyntaxError",
     "evalue": "unterminated string literal (detected at line 1) (3821128853.py, line 1)",
     "output_type": "error",
     "traceback": [
      "\u001b[1;36m  Cell \u001b[1;32mIn[25], line 1\u001b[1;36m\u001b[0m\n\u001b[1;33m    nome = \"Maria'\u001b[0m\n\u001b[1;37m           ^\u001b[0m\n\u001b[1;31mSyntaxError\u001b[0m\u001b[1;31m:\u001b[0m unterminated string literal (detected at line 1)\n"
     ]
    }
   ],
   "source": [
    "nome = \"Maria\"\n",
    "idade = \"25\"\n",
    "print(nome,\"tem\",idade,\"anos de vida!\")"
   ]
  },
  {
   "cell_type": "code",
   "execution_count": 27,
   "id": "899fae7a-2872-4a08-b1ce-edb625e72722",
   "metadata": {},
   "outputs": [
    {
     "name": "stdout",
     "output_type": "stream",
     "text": [
      "Maria tem 25 anos de vida!\n"
     ]
    }
   ],
   "source": [
    "nome = \"Maria\"\n",
    "idade = \"25\"\n",
    "print(nome,\"tem\",idade,\"anos de vida!\")"
   ]
  },
  {
   "cell_type": "code",
   "execution_count": 29,
   "id": "2c027e64-f59c-40a4-bea2-3d1676935b75",
   "metadata": {},
   "outputs": [
    {
     "data": {
      "text/plain": [
       "int"
      ]
     },
     "execution_count": 29,
     "metadata": {},
     "output_type": "execute_result"
    }
   ],
   "source": [
    "type(x)"
   ]
  },
  {
   "cell_type": "code",
   "execution_count": 31,
   "id": "305d9592-6e10-4f36-a6a8-8545cc7365ca",
   "metadata": {},
   "outputs": [],
   "source": [
    "r = 4.5"
   ]
  },
  {
   "cell_type": "code",
   "execution_count": 33,
   "id": "7912484c-e09c-44e4-9643-6feac8dc70fd",
   "metadata": {},
   "outputs": [
    {
     "data": {
      "text/plain": [
       "float"
      ]
     },
     "execution_count": 33,
     "metadata": {},
     "output_type": "execute_result"
    }
   ],
   "source": [
    "type(r)"
   ]
  },
  {
   "cell_type": "code",
   "execution_count": 35,
   "id": "2046adf2-e0c8-473a-955e-a983a126530d",
   "metadata": {},
   "outputs": [],
   "source": [
    "r = \"Saída\""
   ]
  },
  {
   "cell_type": "code",
   "execution_count": 37,
   "id": "e2995846-0bcd-4b42-ab90-e3b427150be2",
   "metadata": {},
   "outputs": [
    {
     "data": {
      "text/plain": [
       "str"
      ]
     },
     "execution_count": 37,
     "metadata": {},
     "output_type": "execute_result"
    }
   ],
   "source": [
    "type(r)"
   ]
  },
  {
   "cell_type": "code",
   "execution_count": 39,
   "id": "e7682798-9219-43f3-989b-819a688e4062",
   "metadata": {},
   "outputs": [
    {
     "data": {
      "text/plain": [
       "'saída'"
      ]
     },
     "execution_count": 39,
     "metadata": {},
     "output_type": "execute_result"
    }
   ],
   "source": [
    "r.lower()"
   ]
  },
  {
   "cell_type": "code",
   "execution_count": 41,
   "id": "af4e306b-ce5c-4ea4-a7ab-9974aabb3456",
   "metadata": {},
   "outputs": [
    {
     "data": {
      "text/plain": [
       "'SAÍDA'"
      ]
     },
     "execution_count": 41,
     "metadata": {},
     "output_type": "execute_result"
    }
   ],
   "source": [
    "r.upper()"
   ]
  },
  {
   "cell_type": "code",
   "execution_count": 1,
   "id": "1aae9595-f621-42d2-9482-f0437b7ecdf1",
   "metadata": {},
   "outputs": [],
   "source": [
    "from math import sqrt"
   ]
  },
  {
   "cell_type": "code",
   "execution_count": 3,
   "id": "9a7ac7b6-6048-4b96-a60e-818c68973efd",
   "metadata": {},
   "outputs": [],
   "source": [
    "x = 2"
   ]
  },
  {
   "cell_type": "code",
   "execution_count": 5,
   "id": "240debb1-81a8-483f-b2d1-5f91b9b40c88",
   "metadata": {},
   "outputs": [
    {
     "ename": "SyntaxError",
     "evalue": "invalid syntax. Maybe you meant '==' or ':=' instead of '='? (2385603895.py, line 1)",
     "output_type": "error",
     "traceback": [
      "\u001b[1;36m  Cell \u001b[1;32mIn[5], line 1\u001b[1;36m\u001b[0m\n\u001b[1;33m    y = (((2*x**2-3*x**(x=1))/2)=(sqrt(x=1)/x))/(2*x)\u001b[0m\n\u001b[1;37m                        ^\u001b[0m\n\u001b[1;31mSyntaxError\u001b[0m\u001b[1;31m:\u001b[0m invalid syntax. Maybe you meant '==' or ':=' instead of '='?\n"
     ]
    }
   ],
   "source": [
    "y = (((2*x**2-3*x**(x=1))/2)=(sqrt(x=1)/x))/(2*x)"
   ]
  },
  {
   "cell_type": "code",
   "execution_count": 1,
   "id": "d321d59f-bbb3-43c6-924f-04947f474fe4",
   "metadata": {},
   "outputs": [
    {
     "ename": "NameError",
     "evalue": "name 'y' is not defined",
     "output_type": "error",
     "traceback": [
      "\u001b[1;31m---------------------------------------------------------------------------\u001b[0m",
      "\u001b[1;31mNameError\u001b[0m                                 Traceback (most recent call last)",
      "Cell \u001b[1;32mIn[1], line 1\u001b[0m\n\u001b[1;32m----> 1\u001b[0m \u001b[38;5;28mprint\u001b[39m(y)\n",
      "\u001b[1;31mNameError\u001b[0m: name 'y' is not defined"
     ]
    }
   ],
   "source": [
    "print(y)"
   ]
  },
  {
   "cell_type": "code",
   "execution_count": 3,
   "id": "85c883ce-d262-4792-abc5-53754691107c",
   "metadata": {},
   "outputs": [
    {
     "ename": "NameError",
     "evalue": "name 'x' is not defined",
     "output_type": "error",
     "traceback": [
      "\u001b[1;31m---------------------------------------------------------------------------\u001b[0m",
      "\u001b[1;31mNameError\u001b[0m                                 Traceback (most recent call last)",
      "Cell \u001b[1;32mIn[3], line 1\u001b[0m\n\u001b[1;32m----> 1\u001b[0m y \u001b[38;5;241m=\u001b[39m (((\u001b[38;5;241m2\u001b[39m \u001b[38;5;241m*\u001b[39m (x \u001b[38;5;241m*\u001b[39m\u001b[38;5;241m*\u001b[39m \u001b[38;5;241m2\u001b[39m) \u001b[38;5;241m-\u001b[39m \u001b[38;5;241m3\u001b[39m \u001b[38;5;241m*\u001b[39m (x \u001b[38;5;241m*\u001b[39m\u001b[38;5;241m*\u001b[39m (x \u001b[38;5;241m+\u001b[39m \u001b[38;5;241m1\u001b[39m)) ) \u001b[38;5;241m/\u001b[39m \u001b[38;5;241m2\u001b[39m ) \u001b[38;5;241m+\u001b[39m ( sqrt(x\u001b[38;5;241m*\u001b[39m\u001b[38;5;241m1\u001b[39m) \u001b[38;5;241m*\u001b[39m x ) ) \u001b[38;5;241m/\u001b[39m ( \u001b[38;5;241m2\u001b[39m \u001b[38;5;241m*\u001b[39m x)\n",
      "\u001b[1;31mNameError\u001b[0m: name 'x' is not defined"
     ]
    }
   ],
   "source": [
    "y = (((2 * (x ** 2) - 3 * (x ** (x + 1)) ) / 2 ) + ( sqrt(x*1) * x ) ) / ( 2 * x)"
   ]
  },
  {
   "cell_type": "code",
   "execution_count": 5,
   "id": "3b966464-31ed-4d82-8ac3-dd856e49d8eb",
   "metadata": {},
   "outputs": [],
   "source": [
    "x = 2"
   ]
  },
  {
   "cell_type": "code",
   "execution_count": 7,
   "id": "f8a2826b-67f7-4be3-8a69-fb5d5cc42343",
   "metadata": {},
   "outputs": [
    {
     "ename": "NameError",
     "evalue": "name 'sqrt' is not defined",
     "output_type": "error",
     "traceback": [
      "\u001b[1;31m---------------------------------------------------------------------------\u001b[0m",
      "\u001b[1;31mNameError\u001b[0m                                 Traceback (most recent call last)",
      "Cell \u001b[1;32mIn[7], line 1\u001b[0m\n\u001b[1;32m----> 1\u001b[0m y \u001b[38;5;241m=\u001b[39m (((\u001b[38;5;241m2\u001b[39m \u001b[38;5;241m*\u001b[39m (x \u001b[38;5;241m*\u001b[39m\u001b[38;5;241m*\u001b[39m \u001b[38;5;241m2\u001b[39m) \u001b[38;5;241m-\u001b[39m \u001b[38;5;241m3\u001b[39m \u001b[38;5;241m*\u001b[39m (x \u001b[38;5;241m*\u001b[39m\u001b[38;5;241m*\u001b[39m (x \u001b[38;5;241m+\u001b[39m \u001b[38;5;241m1\u001b[39m)) ) \u001b[38;5;241m/\u001b[39m \u001b[38;5;241m2\u001b[39m ) \u001b[38;5;241m+\u001b[39m ( sqrt(x\u001b[38;5;241m*\u001b[39m\u001b[38;5;241m1\u001b[39m) \u001b[38;5;241m*\u001b[39m x ) ) \u001b[38;5;241m/\u001b[39m ( \u001b[38;5;241m2\u001b[39m \u001b[38;5;241m*\u001b[39m x)\n",
      "\u001b[1;31mNameError\u001b[0m: name 'sqrt' is not defined"
     ]
    }
   ],
   "source": [
    "y = (((2 * (x ** 2) - 3 * (x ** (x + 1)) ) / 2 ) + ( sqrt(x*1) * x ) ) / ( 2 * x)"
   ]
  },
  {
   "cell_type": "code",
   "execution_count": 9,
   "id": "8bc52dc5-09ed-4496-8e0d-8165556385c1",
   "metadata": {},
   "outputs": [],
   "source": [
    "from math import sqrt"
   ]
  },
  {
   "cell_type": "code",
   "execution_count": 11,
   "id": "0475a35f-7cab-4138-8931-2d42e711c40e",
   "metadata": {},
   "outputs": [],
   "source": [
    "y = (((2 * (x ** 2) - 3 * (x ** (x + 1)) ) / 2 ) + ( sqrt(x*1) * x ) ) / ( 2 * x)"
   ]
  },
  {
   "cell_type": "code",
   "execution_count": 13,
   "id": "f57e39fb-482a-4ed7-afc9-dbfeec167fab",
   "metadata": {},
   "outputs": [
    {
     "name": "stdout",
     "output_type": "stream",
     "text": [
      "-1.2928932188134525\n"
     ]
    }
   ],
   "source": [
    "print(y)"
   ]
  },
  {
   "cell_type": "code",
   "execution_count": 15,
   "id": "42930807-c8a5-47cc-a5e6-5a0331207d4b",
   "metadata": {},
   "outputs": [],
   "source": [
    "y = (((2 * (x ** 2) - 3 * (x ** (x + 1)) ) / 2 ) + ( sqrt(x*1) * x ) ) / ( 2 * x)"
   ]
  },
  {
   "cell_type": "code",
   "execution_count": 17,
   "id": "4ee53afe-a385-47e7-82ac-74d6f15a0de2",
   "metadata": {},
   "outputs": [
    {
     "name": "stdout",
     "output_type": "stream",
     "text": [
      "-1.2928932188134525\n"
     ]
    }
   ],
   "source": [
    "print(y)"
   ]
  },
  {
   "cell_type": "code",
   "execution_count": 19,
   "id": "d3882e16-586c-4cbb-b76a-40d42595c152",
   "metadata": {},
   "outputs": [
    {
     "name": "stdin",
     "output_type": "stream",
     "text": [
      "Digite o valor:  3\n"
     ]
    }
   ],
   "source": [
    "x = int(input(\"Digite o valor: \"))"
   ]
  },
  {
   "cell_type": "code",
   "execution_count": 21,
   "id": "3bbfe2fe-c705-4ffd-9347-9c6e1309cb43",
   "metadata": {},
   "outputs": [],
   "source": [
    "y = (((2 * (x ** 2) - 3 * (x ** (x + 1)) ) / 2 ) + ( sqrt(x*1) * x ) ) / ( 2 * x)"
   ]
  },
  {
   "cell_type": "code",
   "execution_count": null,
   "id": "ab038d63-290e-4a84-9eef-a7982ba0542b",
   "metadata": {},
   "outputs": [],
   "source": [
    "print(y"
   ]
  }
 ],
 "metadata": {
  "kernelspec": {
   "display_name": "Python [conda env:base] *",
   "language": "python",
   "name": "conda-base-py"
  },
  "language_info": {
   "codemirror_mode": {
    "name": "ipython",
    "version": 3
   },
   "file_extension": ".py",
   "mimetype": "text/x-python",
   "name": "python",
   "nbconvert_exporter": "python",
   "pygments_lexer": "ipython3",
   "version": "3.12.7"
  }
 },
 "nbformat": 4,
 "nbformat_minor": 5
}
