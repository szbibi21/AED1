{
  "cells": [
    {
      "cell_type": "markdown",
      "metadata": {},
      "source": [
        "![Algoritmos e Estrutura de Dados I](AED1_banner.jpg)"
      ]
    },
    {
      "cell_type": "markdown",
      "metadata": {
        "id": "ON5E6Y8s3kYI"
      },
      "source": [
        "## <font color='blue'>Algoritmos e Estrutura de Dados I</font>\n",
        "## <font color='blue'>Aula 5b -  Operadores em Python</font>\n",
        "\n",
        "---\n",
        "\n"
      ]
    },
    {
      "cell_type": "markdown",
      "metadata": {
        "id": "p0gQLmlQryi7"
      },
      "source": [
        "**Operadores Aritméticos**"
      ]
    },
    {
      "cell_type": "markdown",
      "metadata": {
        "id": "iM5lkArWGsMv"
      },
      "source": [
        "- '+'       Adição\n",
        "- '-'       Subtração\n",
        "- '*'       Multiplicação\n",
        "- '/'       Divisão\n",
        "- '//'      Divisão de Piso (quociente sem resto)\n",
        "- '%'       Módulo (resto da divisão)\n",
        "- '**'      Exponenciação (potência)"
      ]
    },
    {
      "cell_type": "code",
      "execution_count": null,
      "metadata": {
        "colab": {
          "base_uri": "https://localhost:8080/"
        },
        "id": "ji6vh0RgKoUe",
        "outputId": "7945bfa4-b85b-47ba-810a-039cee668f45"
      },
      "outputs": [
        {
          "data": {
            "text/plain": [
              "12"
            ]
          },
          "execution_count": 1,
          "metadata": {},
          "output_type": "execute_result"
        }
      ],
      "source": [
        "4 + 8"
      ]
    },
    {
      "cell_type": "code",
      "execution_count": null,
      "metadata": {
        "colab": {
          "base_uri": "https://localhost:8080/"
        },
        "id": "lpmgXY_GLBK8",
        "outputId": "983f8a79-a89c-4fb6-c20a-e994336fb56d"
      },
      "outputs": [
        {
          "data": {
            "text/plain": [
              "100"
            ]
          },
          "execution_count": 2,
          "metadata": {},
          "output_type": "execute_result"
        }
      ],
      "source": [
        "num1 = 34\n",
        "num2 = 66\n",
        "(num1 + num2)"
      ]
    },
    {
      "cell_type": "code",
      "execution_count": null,
      "metadata": {
        "colab": {
          "base_uri": "https://localhost:8080/"
        },
        "id": "rGzucxE5L_Ct",
        "outputId": "b04d16cb-e8de-4893-e2b2-af3084fc969e"
      },
      "outputs": [
        {
          "data": {
            "text/plain": [
              "22"
            ]
          },
          "execution_count": 3,
          "metadata": {},
          "output_type": "execute_result"
        }
      ],
      "source": [
        "num1 = 45\n",
        "num2 = 25\n",
        "56 - 34"
      ]
    },
    {
      "cell_type": "code",
      "execution_count": null,
      "metadata": {
        "colab": {
          "base_uri": "https://localhost:8080/"
        },
        "id": "iBEMU3k8MFmh",
        "outputId": "3ca4512b-7255-4336-8edc-46e0292a71a1"
      },
      "outputs": [
        {
          "data": {
            "text/plain": [
              "61"
            ]
          },
          "execution_count": 4,
          "metadata": {},
          "output_type": "execute_result"
        }
      ],
      "source": [
        "56 + 34 - 29"
      ]
    },
    {
      "cell_type": "code",
      "execution_count": null,
      "metadata": {
        "colab": {
          "base_uri": "https://localhost:8080/"
        },
        "id": "mwVWJ6CxMFyL",
        "outputId": "bcaebb63-04ec-4846-ab5d-b9130ced0bec"
      },
      "outputs": [
        {
          "data": {
            "text/plain": [
              "20"
            ]
          },
          "execution_count": 5,
          "metadata": {},
          "output_type": "execute_result"
        }
      ],
      "source": [
        "(num1 - num2)"
      ]
    },
    {
      "cell_type": "code",
      "execution_count": null,
      "metadata": {
        "colab": {
          "base_uri": "https://localhost:8080/"
        },
        "id": "Bf3FvrubNpr9",
        "outputId": "c3ab4f03-1af4-4803-f686-12561368e50e"
      },
      "outputs": [
        {
          "data": {
            "text/plain": [
              "786"
            ]
          },
          "execution_count": 6,
          "metadata": {},
          "output_type": "execute_result"
        }
      ],
      "source": [
        "num1 = 467\n",
        "num2 = 345\n",
        "262 * 3"
      ]
    },
    {
      "cell_type": "code",
      "execution_count": null,
      "metadata": {
        "colab": {
          "base_uri": "https://localhost:8080/"
        },
        "id": "Jf1RVnuBNrDm",
        "outputId": "70d6f58f-8171-4f47-bb39-580de88b3865"
      },
      "outputs": [
        {
          "data": {
            "text/plain": [
              "147"
            ]
          },
          "execution_count": 7,
          "metadata": {},
          "output_type": "execute_result"
        }
      ],
      "source": [
        "45 * 3 + 35 - 23"
      ]
    },
    {
      "cell_type": "code",
      "execution_count": null,
      "metadata": {
        "colab": {
          "base_uri": "https://localhost:8080/"
        },
        "id": "wemAan7TNrJ2",
        "outputId": "eaa2c5a5-d89d-45cc-d347-35b9c3012ab2"
      },
      "outputs": [
        {
          "data": {
            "text/plain": [
              "161115"
            ]
          },
          "execution_count": 8,
          "metadata": {},
          "output_type": "execute_result"
        }
      ],
      "source": [
        "(num1 * num2)"
      ]
    },
    {
      "cell_type": "code",
      "execution_count": null,
      "metadata": {
        "colab": {
          "base_uri": "https://localhost:8080/"
        },
        "id": "PnRtttNpOAVU",
        "outputId": "666a051d-b4c3-4dad-d817-3d8d807050e5"
      },
      "outputs": [
        {
          "data": {
            "text/plain": [
              "25.0"
            ]
          },
          "execution_count": 9,
          "metadata": {},
          "output_type": "execute_result"
        }
      ],
      "source": [
        "100 / 4"
      ]
    },
    {
      "cell_type": "code",
      "execution_count": null,
      "metadata": {
        "colab": {
          "base_uri": "https://localhost:8080/"
        },
        "id": "yoZgMoSDOAhL",
        "outputId": "c64591ab-4247-4d6d-e2b4-ab7e8da91bb6"
      },
      "outputs": [
        {
          "data": {
            "text/plain": [
              "9.090909090909092"
            ]
          },
          "execution_count": 10,
          "metadata": {},
          "output_type": "execute_result"
        }
      ],
      "source": [
        "100 / 11"
      ]
    },
    {
      "cell_type": "code",
      "execution_count": null,
      "metadata": {
        "colab": {
          "base_uri": "https://localhost:8080/"
        },
        "id": "c5KcXIM0OLNg",
        "outputId": "cecc9b5c-f919-44f6-f7b4-5e61bed61ee0"
      },
      "outputs": [
        {
          "name": "stdout",
          "output_type": "stream",
          "text": [
            "9.75\n"
          ]
        }
      ],
      "source": [
        "num1 = 78\n",
        "num2 = 8\n",
        "print(num1 / num2)"
      ]
    },
    {
      "cell_type": "code",
      "execution_count": null,
      "metadata": {
        "colab": {
          "base_uri": "https://localhost:8080/"
        },
        "id": "wkf3MyokOM84",
        "outputId": "b611c728-dd0a-4766-d7bf-07a43f8a3611"
      },
      "outputs": [
        {
          "name": "stdout",
          "output_type": "stream",
          "text": [
            "9\n"
          ]
        }
      ],
      "source": [
        "print(num1 // num2)"
      ]
    },
    {
      "cell_type": "code",
      "execution_count": null,
      "metadata": {
        "colab": {
          "base_uri": "https://localhost:8080/"
        },
        "id": "DjvNnRIgI8uD",
        "outputId": "102f40ac-baf4-4499-ee53-45c2a6d78676"
      },
      "outputs": [
        {
          "name": "stdout",
          "output_type": "stream",
          "text": [
            "6\n"
          ]
        }
      ],
      "source": [
        "print(num1 % num2)"
      ]
    },
    {
      "cell_type": "code",
      "execution_count": null,
      "metadata": {
        "colab": {
          "base_uri": "https://localhost:8080/"
        },
        "id": "QyOZuHuIOZEb",
        "outputId": "bc5cdfd9-3d91-410c-f8d8-26be7e893859"
      },
      "outputs": [
        {
          "data": {
            "text/plain": [
              "0"
            ]
          },
          "execution_count": 14,
          "metadata": {},
          "output_type": "execute_result"
        }
      ],
      "source": [
        "9 % 3"
      ]
    },
    {
      "cell_type": "code",
      "execution_count": null,
      "metadata": {
        "colab": {
          "base_uri": "https://localhost:8080/"
        },
        "id": "PjG-oV94Obys",
        "outputId": "20ee34b9-1a7c-4096-d85b-55096386dc36"
      },
      "outputs": [
        {
          "data": {
            "text/plain": [
              "5"
            ]
          },
          "execution_count": 15,
          "metadata": {},
          "output_type": "execute_result"
        }
      ],
      "source": [
        "45 % 20"
      ]
    },
    {
      "cell_type": "code",
      "execution_count": null,
      "metadata": {
        "colab": {
          "base_uri": "https://localhost:8080/"
        },
        "id": "kz-GwVWCO3Vu",
        "outputId": "605630ee-bb7d-49d9-81c8-ccc536e68e89"
      },
      "outputs": [
        {
          "data": {
            "text/plain": [
              "9"
            ]
          },
          "execution_count": 16,
          "metadata": {},
          "output_type": "execute_result"
        }
      ],
      "source": [
        "3**2\n"
      ]
    },
    {
      "cell_type": "code",
      "execution_count": null,
      "metadata": {
        "colab": {
          "base_uri": "https://localhost:8080/"
        },
        "id": "Gm03Yv0CO4-g",
        "outputId": "1c45dc90-e2b0-41ed-b35e-b73cf6383183"
      },
      "outputs": [
        {
          "data": {
            "text/plain": [
              "5688009063105712890625"
            ]
          },
          "execution_count": 17,
          "metadata": {},
          "output_type": "execute_result"
        }
      ],
      "source": [
        "65**12\n"
      ]
    },
    {
      "cell_type": "code",
      "execution_count": null,
      "metadata": {
        "colab": {
          "base_uri": "https://localhost:8080/"
        },
        "id": "RnE9rMJqO5Py",
        "outputId": "c95e6b3e-8124-4c2a-fa89-02959e514eb8"
      },
      "outputs": [
        {
          "name": "stdout",
          "output_type": "stream",
          "text": [
            "496981290961\n"
          ]
        }
      ],
      "source": [
        "num = 89\n",
        "power = 6\n",
        "print(num**power)"
      ]
    },
    {
      "cell_type": "code",
      "execution_count": null,
      "metadata": {
        "id": "KLWjJX35O5b4"
      },
      "outputs": [],
      "source": []
    },
    {
      "cell_type": "markdown",
      "metadata": {
        "id": "B4YKhzcHr9wq"
      },
      "source": [
        "**Operadores Comparação**"
      ]
    },
    {
      "cell_type": "markdown",
      "metadata": {
        "id": "_-u6TSj-JgG4"
      },
      "source": [
        "- '=='   Igual a\n",
        "- '!='   Diferente de\n",
        "- '<'    Menor que\n",
        "-\t'>'    Maior que\n",
        "- '<='   Menor ou igual a\n",
        "- '>='   Maior ou igual a"
      ]
    },
    {
      "cell_type": "code",
      "execution_count": null,
      "metadata": {
        "colab": {
          "base_uri": "https://localhost:8080/"
        },
        "id": "tG2uLDv_sA01",
        "outputId": "3bf3923a-d060-423b-a8d5-5a0ede61a720"
      },
      "outputs": [
        {
          "data": {
            "text/plain": [
              "True"
            ]
          },
          "execution_count": 19,
          "metadata": {},
          "output_type": "execute_result"
        }
      ],
      "source": [
        "45 == 45"
      ]
    },
    {
      "cell_type": "code",
      "execution_count": null,
      "metadata": {
        "colab": {
          "base_uri": "https://localhost:8080/"
        },
        "id": "rsp3UBmKtnzD",
        "outputId": "e63894e2-f338-47c1-9224-712465bc0959"
      },
      "outputs": [
        {
          "name": "stdout",
          "output_type": "stream",
          "text": [
            "x1 =  False\n",
            "x2 =  True\n",
            "x3 =  False\n"
          ]
        }
      ],
      "source": [
        "x1 = 56 == 90\n",
        "x2 = \"piva\" == \"piva\"\n",
        "x3 = \"diler\" == 'DILER'\n",
        "print(\"x1 = \", x1)\n",
        "print(\"x2 = \", x2)\n",
        "print(\"x3 = \", x3)"
      ]
    },
    {
      "cell_type": "code",
      "execution_count": null,
      "metadata": {
        "colab": {
          "base_uri": "https://localhost:8080/"
        },
        "id": "6RsS5gwduoqw",
        "outputId": "518e87d6-2307-4ea1-a624-4aded090c96b"
      },
      "outputs": [
        {
          "name": "stdout",
          "output_type": "stream",
          "text": [
            "x1 =  True\n",
            "x2 =  False\n",
            "x3 =  True\n"
          ]
        }
      ],
      "source": [
        "x1 = 34 != 35\n",
        "x2 = 765 != 765\n",
        "x3 = 'PYTHON' != 'python'\n",
        "print(\"x1 = \", x1)\n",
        "print(\"x2 = \", x2)\n",
        "print(\"x3 = \", x3)"
      ]
    },
    {
      "cell_type": "code",
      "execution_count": null,
      "metadata": {
        "colab": {
          "base_uri": "https://localhost:8080/"
        },
        "id": "j4s_dihuvYFP",
        "outputId": "2ba19651-3918-4a7c-ac6e-58d603f01b34"
      },
      "outputs": [
        {
          "data": {
            "text/plain": [
              "True"
            ]
          },
          "execution_count": 22,
          "metadata": {},
          "output_type": "execute_result"
        }
      ],
      "source": [
        "21 < 56"
      ]
    },
    {
      "cell_type": "code",
      "execution_count": null,
      "metadata": {
        "colab": {
          "base_uri": "https://localhost:8080/"
        },
        "id": "UqZwuULdvfvw",
        "outputId": "b7e33e1c-9a51-4c34-d278-a90961ca461d"
      },
      "outputs": [
        {
          "name": "stdout",
          "output_type": "stream",
          "text": [
            "True\n"
          ]
        }
      ],
      "source": [
        "num1 = 66\n",
        "num2 = 99\n",
        "print(num1 < num2)"
      ]
    },
    {
      "cell_type": "code",
      "execution_count": null,
      "metadata": {
        "colab": {
          "base_uri": "https://localhost:8080/"
        },
        "id": "1EygVd7Bvo3o",
        "outputId": "54cdd862-dafe-454a-f4c7-61adbd37c8e9"
      },
      "outputs": [
        {
          "data": {
            "text/plain": [
              "True"
            ]
          },
          "execution_count": 24,
          "metadata": {},
          "output_type": "execute_result"
        }
      ],
      "source": [
        "97 > 89"
      ]
    },
    {
      "cell_type": "code",
      "execution_count": null,
      "metadata": {
        "colab": {
          "base_uri": "https://localhost:8080/"
        },
        "id": "225gI28nvz6p",
        "outputId": "6f5d7475-d2ca-422b-8aa1-75de4879f995"
      },
      "outputs": [
        {
          "name": "stdout",
          "output_type": "stream",
          "text": [
            "True\n"
          ]
        }
      ],
      "source": [
        "num1 = 456\n",
        "num2 = 329\n",
        "print(num1 >num2)"
      ]
    },
    {
      "cell_type": "code",
      "execution_count": null,
      "metadata": {
        "colab": {
          "base_uri": "https://localhost:8080/"
        },
        "id": "ylCWBr7PwUD4",
        "outputId": "3aebd53e-57b0-49e5-8aa3-4bacce3088fc"
      },
      "outputs": [
        {
          "data": {
            "text/plain": [
              "True"
            ]
          },
          "execution_count": 26,
          "metadata": {},
          "output_type": "execute_result"
        }
      ],
      "source": [
        "67 <= 85"
      ]
    },
    {
      "cell_type": "code",
      "execution_count": null,
      "metadata": {
        "colab": {
          "base_uri": "https://localhost:8080/"
        },
        "id": "RGrv6kAjwgKu",
        "outputId": "3ec196d5-253f-4175-928f-6b5dd6973bc3"
      },
      "outputs": [
        {
          "data": {
            "text/plain": [
              "True"
            ]
          },
          "execution_count": 27,
          "metadata": {},
          "output_type": "execute_result"
        }
      ],
      "source": [
        "100 >= 99"
      ]
    },
    {
      "cell_type": "markdown",
      "metadata": {
        "id": "1OPsgzgyxrkO"
      },
      "source": [
        "**Operadores de Atribuição**"
      ]
    },
    {
      "cell_type": "markdown",
      "metadata": {
        "id": "dd2zxYnoNqYf"
      },
      "source": [
        "- '='    Atribuir valor\n",
        "- '+='   Adicionar e atribuir\n",
        "- '-='   Subtrair e atribuir\n",
        "- '*='   Multiplicar e atribuir\n",
        "- '/='   Dividir e atribuir\n",
        "- '//='  Divisão de Piso e atribuir\n",
        "- '%='   Módulo e atribuir\n",
        "- '**='  Exponenciar e atribuir"
      ]
    },
    {
      "cell_type": "code",
      "execution_count": null,
      "metadata": {
        "colab": {
          "base_uri": "https://localhost:8080/"
        },
        "id": "bxxlDjynxyRU",
        "outputId": "f8fcb870-7ef9-44b9-ced6-4665fbd3c625"
      },
      "outputs": [
        {
          "name": "stdout",
          "output_type": "stream",
          "text": [
            "7\n"
          ]
        }
      ],
      "source": [
        "x = 7\n",
        "print(x)"
      ]
    },
    {
      "cell_type": "code",
      "execution_count": null,
      "metadata": {
        "colab": {
          "base_uri": "https://localhost:8080/"
        },
        "id": "YJT7BapLOMy-",
        "outputId": "fe9e82ba-cc7e-49a8-9134-b47e78824e77"
      },
      "outputs": [
        {
          "name": "stdout",
          "output_type": "stream",
          "text": [
            "10\n"
          ]
        }
      ],
      "source": [
        "x += 3\n",
        "print(x)"
      ]
    },
    {
      "cell_type": "code",
      "execution_count": null,
      "metadata": {
        "colab": {
          "base_uri": "https://localhost:8080/"
        },
        "id": "GvGjIQBIOyO7",
        "outputId": "dd478379-13ff-400b-8d5a-c3c87d07345e"
      },
      "outputs": [
        {
          "name": "stdout",
          "output_type": "stream",
          "text": [
            "16\n"
          ]
        }
      ],
      "source": [
        "x = x + 3\n",
        "print(x)"
      ]
    },
    {
      "cell_type": "code",
      "execution_count": null,
      "metadata": {
        "colab": {
          "base_uri": "https://localhost:8080/"
        },
        "id": "JPQdtqNIPEya",
        "outputId": "cd03c34c-ffc8-4b4f-cbab-6781885b0d46"
      },
      "outputs": [
        {
          "name": "stdout",
          "output_type": "stream",
          "text": [
            "32\n"
          ]
        }
      ],
      "source": [
        "x *= 2\n",
        "print(x)"
      ]
    },
    {
      "cell_type": "markdown",
      "metadata": {
        "id": "Q3gMvU7Juzoj"
      },
      "source": [
        "**Operadores Lógicos**"
      ]
    },
    {
      "cell_type": "markdown",
      "metadata": {
        "id": "xL0RvB8XPR5m"
      },
      "source": [
        "- **and**  # AND Lógico (ambas as condições devem ser True)\n",
        "- **or**   # OR Lógico (pelo menos uma condição deve ser True)\n",
        "- **not**  # NOT Lógico (inverte o resultado da condição)"
      ]
    },
    {
      "cell_type": "code",
      "execution_count": null,
      "metadata": {
        "colab": {
          "base_uri": "https://localhost:8080/"
        },
        "id": "zkWdgF45u3Oo",
        "outputId": "ea935f8a-e064-4510-9d60-e64d0e996233"
      },
      "outputs": [
        {
          "data": {
            "text/plain": [
              "True"
            ]
          },
          "execution_count": 33,
          "metadata": {},
          "output_type": "execute_result"
        }
      ],
      "source": [
        "x = 92\n",
        "(x < 100) and (x > 90)"
      ]
    },
    {
      "cell_type": "code",
      "execution_count": null,
      "metadata": {
        "colab": {
          "base_uri": "https://localhost:8080/"
        },
        "id": "GXAL8o4av2n7",
        "outputId": "9ab55835-7efc-4bb7-bd1e-bf4a57f121c0"
      },
      "outputs": [
        {
          "data": {
            "text/plain": [
              "False"
            ]
          },
          "execution_count": 34,
          "metadata": {},
          "output_type": "execute_result"
        }
      ],
      "source": [
        "x = 89\n",
        "(x < 100) and (x > 90)"
      ]
    },
    {
      "cell_type": "code",
      "execution_count": null,
      "metadata": {
        "colab": {
          "base_uri": "https://localhost:8080/"
        },
        "id": "doe13XW3wBJZ",
        "outputId": "665d3fb4-7317-4bf5-b59f-71c15413469d"
      },
      "outputs": [
        {
          "data": {
            "text/plain": [
              "True"
            ]
          },
          "execution_count": 35,
          "metadata": {},
          "output_type": "execute_result"
        }
      ],
      "source": [
        "x = 89\n",
        "(x < 100) or (x > 90)"
      ]
    },
    {
      "cell_type": "code",
      "execution_count": null,
      "metadata": {
        "colab": {
          "base_uri": "https://localhost:8080/"
        },
        "id": "0YyfF6DKwqXV",
        "outputId": "8caa02af-78f2-4870-d674-925078f9e8d5"
      },
      "outputs": [
        {
          "name": "stdout",
          "output_type": "stream",
          "text": [
            "False\n",
            "True\n",
            "True\n"
          ]
        }
      ],
      "source": [
        "x = 89\n",
        "print(not (x < 100 or x > 90))\n",
        "print(not (x < 100 and x > 90))\n",
        "print(not (x < 100 and x > 90))"
      ]
    },
    {
      "cell_type": "markdown",
      "metadata": {
        "id": "BV8GF3T1w7VP"
      },
      "source": [
        "**Operadores de Identidade**"
      ]
    },
    {
      "cell_type": "markdown",
      "metadata": {
        "id": "6qRt5quxQtc3"
      },
      "source": [
        "- **is** - True se os operandos forem idênticos (mesmo objeto)\n",
        "- **is not** - True se os operandos não forem idênticos\n"
      ]
    },
    {
      "cell_type": "code",
      "execution_count": null,
      "metadata": {
        "colab": {
          "base_uri": "https://localhost:8080/"
        },
        "id": "VQ8ZyqxdxATb",
        "outputId": "14bbb827-0226-4db4-ff88-6d7af0c7fd76"
      },
      "outputs": [
        {
          "name": "stdout",
          "output_type": "stream",
          "text": [
            "140638702808944\n",
            "140638702801552\n",
            "140638702808944\n"
          ]
        }
      ],
      "source": [
        "a = 9000\n",
        "b = 9000\n",
        "c = a\n",
        "print(id(a))\n",
        "print(id(b))\n",
        "print(id(c))"
      ]
    },
    {
      "cell_type": "code",
      "execution_count": null,
      "metadata": {
        "colab": {
          "base_uri": "https://localhost:8080/"
        },
        "id": "mpCFl_XayxWi",
        "outputId": "85be23ff-b0eb-46c8-f88b-e8da1cb6b613"
      },
      "outputs": [
        {
          "name": "stdout",
          "output_type": "stream",
          "text": [
            "False\n",
            "True\n",
            "False\n"
          ]
        }
      ],
      "source": [
        "print(a is b)\n",
        "print(a is c)\n",
        "print(b is c)"
      ]
    },
    {
      "cell_type": "code",
      "execution_count": null,
      "metadata": {
        "colab": {
          "base_uri": "https://localhost:8080/"
        },
        "id": "vWT-Blm_054F",
        "outputId": "6046186d-1205-44bf-aec9-446e05d72cd9"
      },
      "outputs": [
        {
          "name": "stdout",
          "output_type": "stream",
          "text": [
            "140640032686576\n",
            "140640032686576\n",
            "140640032686576\n"
          ]
        }
      ],
      "source": [
        "a = 9\n",
        "b = 9\n",
        "c = a\n",
        "print(id(a))\n",
        "print(id(b))\n",
        "print(id(c))"
      ]
    },
    {
      "cell_type": "markdown",
      "metadata": {
        "id": "AlDNQ-xt1UBi"
      },
      "source": [
        "**Operadores de Associação**"
      ]
    },
    {
      "cell_type": "markdown",
      "metadata": {
        "id": "k9UFnB7MRIWo"
      },
      "source": [
        "- **in** - True se o valor for encontrado na sequência\n",
        "- **not in** - True se o valor não for encontrado na sequência\n"
      ]
    },
    {
      "cell_type": "code",
      "execution_count": null,
      "metadata": {
        "colab": {
          "base_uri": "https://localhost:8080/"
        },
        "id": "JwEnayPB1XVa",
        "outputId": "a26df4d5-f698-4f1d-cef0-0baaec217739"
      },
      "outputs": [
        {
          "data": {
            "text/plain": [
              "True"
            ]
          },
          "execution_count": 40,
          "metadata": {},
          "output_type": "execute_result"
        }
      ],
      "source": [
        "'a' in 'piva'"
      ]
    },
    {
      "cell_type": "code",
      "execution_count": null,
      "metadata": {
        "colab": {
          "base_uri": "https://localhost:8080/"
        },
        "id": "IR1tDjEp183G",
        "outputId": "c3eef8fb-4b40-4ec8-f94c-93f7559d230f"
      },
      "outputs": [
        {
          "data": {
            "text/plain": [
              "False"
            ]
          },
          "execution_count": 41,
          "metadata": {},
          "output_type": "execute_result"
        }
      ],
      "source": [
        "\"r\" in \"piva\""
      ]
    },
    {
      "cell_type": "code",
      "execution_count": null,
      "metadata": {
        "colab": {
          "base_uri": "https://localhost:8080/"
        },
        "id": "tnonzQrR2L42",
        "outputId": "55ef8207-716d-4eaf-dc73-10786e15ada9"
      },
      "outputs": [
        {
          "data": {
            "text/plain": [
              "True"
            ]
          },
          "execution_count": 42,
          "metadata": {},
          "output_type": "execute_result"
        }
      ],
      "source": [
        "\"r\" not in \"piva\""
      ]
    },
    {
      "cell_type": "markdown",
      "metadata": {
        "id": "ij4IYura5cGV"
      },
      "source": [
        "## Fim da Aula 05b"
      ]
    }
  ],
  "metadata": {
    "colab": {
      "provenance": []
    },
    "kernelspec": {
      "display_name": "Python 3",
      "name": "python3"
    },
    "language_info": {
      "name": "python"
    }
  },
  "nbformat": 4,
  "nbformat_minor": 0
}
