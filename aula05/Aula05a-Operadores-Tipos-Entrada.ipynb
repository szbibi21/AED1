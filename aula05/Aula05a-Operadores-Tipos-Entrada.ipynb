{
 "cells": [
  {
   "cell_type": "markdown",
   "metadata": {},
   "source": [
    "![Algoritmos e Estrutura de Dados I](AED1_banner.jpg)"
   ]
  },
  {
   "cell_type": "markdown",
   "metadata": {},
   "source": [
    "## <font color='blue'>Algoritmos e Estrutura de Dados I</font>\n",
    "## <font color='blue'>Aula 5a - Introdução a Linguagem Python </font>"
   ]
  },
  {
   "cell_type": "markdown",
   "metadata": {},
   "source": [
    "Python é uma linguagem de programação de alto nível, interpretada e de fácil leitura, amplamente utilizada para diversas finalidades, como desenvolvimento web, análise de dados, inteligência artificial e automação de tarefas."
   ]
  },
  {
   "cell_type": "code",
   "execution_count": null,
   "metadata": {},
   "outputs": [],
   "source": [
    "# Versão da Linguagem Python\n",
    "from platform import python_version\n",
    "print('A versão da Linguagem Python usada aqui é a :', python_version())"
   ]
  },
  {
   "cell_type": "markdown",
   "metadata": {},
   "source": [
    "## Tipos de Dados Básicos em Python"
   ]
  },
  {
   "cell_type": "markdown",
   "metadata": {},
   "source": [
    "### Números"
   ]
  },
  {
   "cell_type": "markdown",
   "metadata": {},
   "source": [
    "Python suporta diversos tipos numéricos, incluindo:\n",
    "- **Inteiros** (`int`): Números sem parte decimal.\n",
    "- **Pontos Flutuantes** (`float`): Números com parte decimal.\n",
    "- **Números Complexos** (`complex`): Números na forma \\(a + bj\\), onde \\(a\\) e \\(b\\) são números reais."
   ]
  },
  {
   "cell_type": "code",
   "execution_count": null,
   "metadata": {},
   "outputs": [],
   "source": [
    "# Exemplos de operações numéricas:\n",
    "# Adição\n",
    "3 + 2"
   ]
  },
  {
   "cell_type": "code",
   "execution_count": null,
   "metadata": {},
   "outputs": [],
   "source": [
    "# Subtração\n",
    "7 - 4"
   ]
  },
  {
   "cell_type": "code",
   "execution_count": null,
   "metadata": {},
   "outputs": [],
   "source": [
    "# Multiplicação\n",
    "6 * 3"
   ]
  },
  {
   "cell_type": "code",
   "execution_count": null,
   "metadata": {},
   "outputs": [],
   "source": [
    "# Divisão\n",
    "8 / 2"
   ]
  },
  {
   "cell_type": "code",
   "execution_count": null,
   "metadata": {},
   "outputs": [],
   "source": [
    "# Divisão inteira\n",
    "7 // 3"
   ]
  },
  {
   "cell_type": "code",
   "execution_count": null,
   "metadata": {},
   "outputs": [],
   "source": [
    "# Módulo (resto da divisão)\n",
    "9 % 4"
   ]
  },
  {
   "cell_type": "code",
   "execution_count": null,
   "metadata": {},
   "outputs": [],
   "source": [
    "# Potência\n",
    "2 ** 3"
   ]
  },
  {
   "cell_type": "markdown",
   "metadata": {},
   "source": [
    "![Operações](imagens\\operacoes.jpg)"
   ]
  },
  {
   "cell_type": "markdown",
   "metadata": {},
   "source": [
    "### Caracteres ou Strings"
   ]
  },
  {
   "cell_type": "markdown",
   "metadata": {},
   "source": [
    "Python suporta o tipo String:\n",
    "- **String** (`str`): Caracteres ou Cadeia de Caracteres ou Strings"
   ]
  },
  {
   "cell_type": "markdown",
   "metadata": {},
   "source": [
    "#### Trabalhando com Strings"
   ]
  },
  {
   "cell_type": "markdown",
   "metadata": {},
   "source": [
    "As strings em Python são sequências de caracteres delimitadas por aspas simples ou duplas."
   ]
  },
  {
   "cell_type": "code",
   "execution_count": null,
   "metadata": {},
   "outputs": [],
   "source": [
    "# Definindo uma string\n",
    "nome = \"Python\"\n",
    "nome"
   ]
  },
  {
   "cell_type": "code",
   "execution_count": null,
   "metadata": {},
   "outputs": [],
   "source": [
    "# Concatenando strings\n",
    "saudacao = \"Olá, \" + nome\n",
    "saudacao"
   ]
  },
  {
   "cell_type": "code",
   "execution_count": null,
   "metadata": {},
   "outputs": [],
   "source": [
    "# Acessando caracteres individuais\n",
    "primeira_letra = nome[0]\n",
    "primeira_letra"
   ]
  },
  {
   "cell_type": "code",
   "execution_count": null,
   "metadata": {},
   "outputs": [],
   "source": [
    "# Fatiando strings\n",
    "parte = nome[1:4]\n",
    "parte"
   ]
  },
  {
   "cell_type": "markdown",
   "metadata": {},
   "source": [
    "### Listas ou Arrays"
   ]
  },
  {
   "cell_type": "markdown",
   "metadata": {},
   "source": [
    "Python suporta o tipo String:\n",
    "- **Listas** (`list`): Sequencia homogênea ou heterogênea (em termos de tipos de dados), separados por vírgula, e limitados por colchetes."
   ]
  },
  {
   "cell_type": "markdown",
   "metadata": {},
   "source": [
    "#### Listas"
   ]
  },
  {
   "cell_type": "markdown",
   "metadata": {},
   "source": [
    "Listas são coleções ordenadas e mutáveis de elementos."
   ]
  },
  {
   "cell_type": "code",
   "execution_count": null,
   "metadata": {},
   "outputs": [],
   "source": [
    "# Criando uma lista\n",
    "numeros = [1, 2, 3, 4, 5]\n",
    "numeros"
   ]
  },
  {
   "cell_type": "code",
   "execution_count": null,
   "metadata": {},
   "outputs": [],
   "source": [
    "# Acessando elementos\n",
    "primeiro_numero = numeros[0]\n",
    "primeiro_numero"
   ]
  },
  {
   "cell_type": "code",
   "execution_count": null,
   "metadata": {},
   "outputs": [],
   "source": [
    "# Adicionando elementos\n",
    "numeros.append(6)\n",
    "numeros"
   ]
  },
  {
   "cell_type": "code",
   "execution_count": null,
   "metadata": {},
   "outputs": [],
   "source": [
    "# Removendo elementos\n",
    "numeros.remove(3)\n",
    "numeros"
   ]
  },
  {
   "cell_type": "markdown",
   "metadata": {},
   "source": [
    "## Função `type`"
   ]
  },
  {
   "cell_type": "code",
   "execution_count": null,
   "metadata": {},
   "outputs": [],
   "source": [
    "# Verificando o tipo de diferentes valores\n",
    "type(10)          # int\n",
    "type(3.14)        # float\n",
    "type(\"Python\")    # str\n",
    "type([1, 2, 3])   # list"
   ]
  },
  {
   "cell_type": "markdown",
   "metadata": {},
   "source": [
    "## Comando básico de saída `print`"
   ]
  },
  {
   "cell_type": "markdown",
   "metadata": {},
   "source": [
    "O comando print() é uma função integrada na linguagem Python que permite exibir informações na tela do usuário. Seja para mostrar mensagens, valores de variáveis, resultados de operações ou simplesmente para debugar o código, o print() é uma ferramenta essencial para qualquer programador Python."
   ]
  },
  {
   "cell_type": "markdown",
   "metadata": {},
   "source": [
    "![Comando Print](imagens\\print.jpg)"
   ]
  },
  {
   "cell_type": "code",
   "execution_count": null,
   "metadata": {},
   "outputs": [],
   "source": [
    "print(\"Olá, mundo!\")"
   ]
  },
  {
   "cell_type": "markdown",
   "metadata": {},
   "source": [
    "## Operações com números `float`"
   ]
  },
  {
   "cell_type": "code",
   "execution_count": null,
   "metadata": {},
   "outputs": [],
   "source": [
    "# Operações básicas com float\n",
    "print(5.0 + 3.2)  # Adição\n",
    "print(7.5 - 2.3)  # Subtração\n",
    "print(4.2 * 3.1)  # Multiplicação\n",
    "print(9.8 / 2.0)  # Divisão\n",
    "print(7.0 // 2.5) # Divisão inteira\n",
    "print(8.4 % 2.5)  # Módulo\n",
    "print(2.3 ** 3)   # Potência"
   ]
  },
  {
   "cell_type": "markdown",
   "metadata": {},
   "source": [
    "### Conversão de Tipos"
   ]
  },
  {
   "cell_type": "code",
   "execution_count": null,
   "metadata": {},
   "outputs": [],
   "source": [
    "# Python permite a conversão explícita de tipos usando funções específicas:\n",
    "\n",
    "# Convertendo inteiro para ponto flutuante\n",
    "float(10)"
   ]
  },
  {
   "cell_type": "code",
   "execution_count": null,
   "metadata": {},
   "outputs": [],
   "source": [
    "# Convertendo ponto flutuante para inteiro (truncamento)\n",
    "int(7.9)"
   ]
  },
  {
   "cell_type": "code",
   "execution_count": null,
   "metadata": {},
   "outputs": [],
   "source": [
    "# Arredondamento\n",
    "round(7.5)"
   ]
  },
  {
   "cell_type": "markdown",
   "metadata": {},
   "source": [
    "### Representação Hexadecimal e Binária"
   ]
  },
  {
   "cell_type": "code",
   "execution_count": null,
   "metadata": {},
   "outputs": [],
   "source": [
    "# Convertendo para hexadecimal\n",
    "hex(255)"
   ]
  },
  {
   "cell_type": "code",
   "execution_count": null,
   "metadata": {},
   "outputs": [],
   "source": [
    "# Convertendo para binário\n",
    "bin(10)"
   ]
  },
  {
   "cell_type": "markdown",
   "metadata": {},
   "source": [
    "### Funções Matemáticas básicas..."
   ]
  },
  {
   "cell_type": "code",
   "execution_count": null,
   "metadata": {},
   "outputs": [],
   "source": [
    "# Python oferece várias funções matemáticas embutidas:\n",
    "\n",
    "# Retorna o valor absoluto\n",
    "abs(-5)"
   ]
  },
  {
   "cell_type": "code",
   "execution_count": null,
   "metadata": {},
   "outputs": [],
   "source": [
    "# Calcula a potência\n",
    "pow(2, 3)  # Equivalente a 2 ** 3"
   ]
  },
  {
   "cell_type": "code",
   "execution_count": null,
   "metadata": {},
   "outputs": [],
   "source": [
    "# Arredonda para o inteiro mais próximo\n",
    "round(3.14159, 2)  # Arredonda para 2 casas decimais"
   ]
  },
  {
   "cell_type": "markdown",
   "metadata": {},
   "source": [
    "## Trabalhando com Variáveis"
   ]
  },
  {
   "cell_type": "markdown",
   "metadata": {},
   "source": [
    "![Variaveis](imagens\\variaveis.jpg)"
   ]
  },
  {
   "cell_type": "code",
   "execution_count": null,
   "metadata": {},
   "outputs": [],
   "source": [
    "# Declarando variáveis\n",
    "nome = \"João\"\n",
    "idade = 25\n",
    "altura = 1.75\n",
    "\n",
    "# Exibindo valores das variáveis\n",
    "print(nome)\n",
    "print(idade)\n",
    "print(altura)"
   ]
  },
  {
   "cell_type": "code",
   "execution_count": null,
   "metadata": {},
   "outputs": [],
   "source": [
    "# Fique atento!!! Python é case-sensitive. Criamos a variável idade, mas não a variável Idade.\n",
    "# Letras maiúsculas e minúsculas tem diferença no nome da variável.\n",
    "Idade"
   ]
  },
  {
   "cell_type": "markdown",
   "metadata": {},
   "source": [
    "## Regras de Identificação de Variáveis"
   ]
  },
  {
   "cell_type": "markdown",
   "metadata": {},
   "source": [
    "- Nomes de variáveis devem começar com uma letra ou um sublinhado (_).\n",
    "- Nomes de variáveis não podem começar com um número.\n",
    "- Nomes de variáveis só podem conter caracteres alfanuméricos e sublinhados (A-z, 0-9, e _ ).\n",
    "- Nomes de variáveis são sensíveis a maiúsculas e minúsculas (idade, Idade e IDADE são diferentes)."
   ]
  },
  {
   "cell_type": "code",
   "execution_count": null,
   "metadata": {},
   "outputs": [],
   "source": [
    "# Mensagem de erro, pois a linguagem Python não permite nomes de variáveis que iniciem com números\n",
    "1xyz = 20"
   ]
  },
  {
   "cell_type": "markdown",
   "metadata": {},
   "source": [
    "## Declaração Múltipla"
   ]
  },
  {
   "cell_type": "code",
   "execution_count": null,
   "metadata": {},
   "outputs": [],
   "source": [
    "# Declarando múltiplas variáveis\n",
    "x, y, z = 1, 2, 3\n",
    "print(x, y, z)"
   ]
  },
  {
   "cell_type": "markdown",
   "metadata": {},
   "source": [
    "## Palavras-chave da Linguagem Python"
   ]
  },
  {
   "cell_type": "code",
   "execution_count": null,
   "metadata": {},
   "outputs": [],
   "source": [
    "# Listando palavras-chave em Python\n",
    "import keyword\n",
    "print(keyword.kwlist)"
   ]
  },
  {
   "cell_type": "code",
   "execution_count": null,
   "metadata": {},
   "outputs": [],
   "source": [
    "# Não podemos usar palavras reservadas como nome de variável\n",
    "continue = 1"
   ]
  },
  {
   "cell_type": "markdown",
   "metadata": {},
   "source": [
    "## Ordem dos Operadores"
   ]
  },
  {
   "cell_type": "markdown",
   "metadata": {},
   "source": [
    "A ordem dos operadores define a precedência das operações matemáticas.\n",
    "\n",
    "1. **Parênteses**: `()`\n",
    "2. **Exponentiação**: `**`\n",
    "3. **Multiplicação, Divisão, Módulo e Divisão Inteira**: `*, /, %, //`\n",
    "4. **Adição e Subtração**: `+, -`"
   ]
  },
  {
   "cell_type": "code",
   "execution_count": null,
   "metadata": {},
   "outputs": [],
   "source": [
    "# Exemplo de ordem dos operadores\n",
    "resultado = (3 + 2) * 2 ** 2 / 2 - 5\n",
    "print(resultado)  # Resulta em 5.0"
   ]
  },
  {
   "cell_type": "markdown",
   "metadata": {},
   "source": [
    "## Operações com Variáveis"
   ]
  },
  {
   "cell_type": "code",
   "execution_count": null,
   "metadata": {},
   "outputs": [],
   "source": [
    "a = 10\n",
    "b = 5\n",
    "soma = a + b\n",
    "diferenca = a - b\n",
    "produto = a * b\n",
    "quociente = a / b\n",
    "print(soma, diferenca, produto, quociente)"
   ]
  },
  {
   "cell_type": "markdown",
   "metadata": {},
   "source": [
    "#### Apresentação de valores formatados"
   ]
  },
  {
   "cell_type": "code",
   "execution_count": null,
   "metadata": {},
   "outputs": [],
   "source": [
    "print(f\"Soma: {soma} \\nDiferença: {diferenca} \\nProduto: {produto} \\nQuociente: {quociente}\")"
   ]
  },
  {
   "cell_type": "code",
   "execution_count": null,
   "metadata": {},
   "outputs": [],
   "source": [
    "print(f\"{soma=} , {diferenca=} , {produto=} , {quociente=}\")"
   ]
  },
  {
   "cell_type": "code",
   "execution_count": null,
   "metadata": {},
   "outputs": [],
   "source": [
    "print(f\"Soma: {soma:8d} \\nDiferença: {diferenca:3d} \\nProduto: {produto:5d} \\nQuociente: {quociente:3.1f}\")"
   ]
  },
  {
   "cell_type": "markdown",
   "metadata": {},
   "source": [
    "## Concatenação de Variáveis"
   ]
  },
  {
   "cell_type": "code",
   "execution_count": null,
   "metadata": {},
   "outputs": [],
   "source": [
    "# Concatenando strings\n",
    "nome = \"Maria\"\n",
    "saudacao = \"Olá, \" + nome + \"!\"\n",
    "print(saudacao)"
   ]
  },
  {
   "cell_type": "markdown",
   "metadata": {},
   "source": [
    "## Pseudocódigo e Implementação"
   ]
  },
  {
   "cell_type": "markdown",
   "metadata": {},
   "source": [
    "Pseudocódigo é uma forma de descrever um algoritmo de forma simples, usando linguagem natural.\n",
    "\n",
    "**Exemplo de Pseudocódigo do nosso dia a dia:**\n",
    "```\n",
    "1. Levantar\n",
    "2. Tirar o Pijama\n",
    "3. Tomar Banho\n",
    "4. Enxugar-se\n",
    "5. Colocar a nova Roupa\n",
    "4. Tomar café\n",
    "5. Ir trabalhar/estudar.\n",
    "```\n",
    "\n",
    "**Exemplo de Pseudocódigo Computacional:**\n",
    "```\n",
    "1. Iniciar\n",
    "2. Ler o nome do usuário\n",
    "3. Ler a idade do usuário\n",
    "4. Exibir o nome e a idade do usuário\n",
    "5. Fim\n",
    "```\n",
    "\n",
    "**Implementação em Python:**"
   ]
  },
  {
   "cell_type": "code",
   "execution_count": null,
   "metadata": {},
   "outputs": [],
   "source": [
    "# Passos 2: Ler o nome do usuário\n",
    "nome = input(\"Digite seu nome: \")\n",
    "# Passos 3: Ler a idade do usuário\n",
    "idade = int(input(\"Digite sua idade: \"))\n",
    "# Passo 4: Exibir o nome e a idade do usuário\n",
    "print(f\"Nome: {nome}, Idade: {idade}\")"
   ]
  },
  {
   "cell_type": "markdown",
   "metadata": {},
   "source": [
    "![Input](imagens\\input.jpg)"
   ]
  },
  {
   "cell_type": "markdown",
   "metadata": {},
   "source": [
    "### EXEMPLO 01\n",
    "Calcular a área de um quadrilátero, com dois lados iguais. Para isso faz a leitura de dois números inteiros, representando os lados e imprime os valores lidos e a área calculada.\n",
    "\n",
    "base, altura, area representam os nomes das variáveis – podem ser do tipo inteiro ou do tipo real."
   ]
  },
  {
   "cell_type": "code",
   "execution_count": null,
   "metadata": {},
   "outputs": [],
   "source": [
    "base = float(input('Entre com a base:'))\n",
    "altura = float(input('Entre com a altura:'))\n",
    "area = base * altura\n",
    "print('A área é = ', area)"
   ]
  },
  {
   "cell_type": "markdown",
   "metadata": {},
   "source": [
    "### EXEMPLO 02\n",
    "Ler a temperatura em °C e apresentar em °F. \n",
    "\n",
    "Dados : F=(9*C+160)/5. "
   ]
  },
  {
   "cell_type": "code",
   "execution_count": null,
   "metadata": {},
   "outputs": [],
   "source": [
    "celsius = float(input(\"Entre com a temperatura em C:\"))\n",
    "fare = (9 * celsius + 160) / 5\n",
    "print(\"A temperatura em F = \", fare)"
   ]
  },
  {
   "cell_type": "markdown",
   "metadata": {},
   "source": [
    "## Exercícios Práticos"
   ]
  },
  {
   "cell_type": "markdown",
   "metadata": {},
   "source": [
    "1. Escreva um programa que leia e exiba o seu nome e a profissão de uma pessoa."
   ]
  },
  {
   "cell_type": "code",
   "execution_count": null,
   "metadata": {},
   "outputs": [],
   "source": [
    "nome = input(\"Digite seu nome: \")\n",
    "prof = input(\"Digite sua Profissão: \")\n",
    "print(f\"Nome: {nome}, Profissão: {prof}\")"
   ]
  },
  {
   "cell_type": "markdown",
   "metadata": {},
   "source": [
    "2. Escreva um programa que leia o ano de nascimento e o ano atual, e calcule a idade em anos, meses, dias e semanas."
   ]
  },
  {
   "cell_type": "code",
   "execution_count": null,
   "metadata": {},
   "outputs": [],
   "source": [
    "ano_nascimento = int(input(\"Digite o ano de nascimento: \"))\n",
    "ano_atual = int(input(\"Digite o ano atual: \"))\n",
    "idade_anos = ano_atual - ano_nascimento\n",
    "idade_meses = idade_anos * 12\n",
    "idade_dias = idade_anos * 365\n",
    "idade_semanas = idade_dias // 7\n",
    "print(f\"Idade: {idade_anos} anos, {idade_meses} meses, {idade_dias} dias, {idade_semanas} semanas\")"
   ]
  },
  {
   "cell_type": "markdown",
   "metadata": {},
   "source": [
    "3. Escreva um programa que calcule o novo salário após um aumento de 25%."
   ]
  },
  {
   "cell_type": "code",
   "execution_count": null,
   "metadata": {},
   "outputs": [],
   "source": [
    "salario = float(input(\"Digite o salário atual: \"))\n",
    "novo_salario = salario * 1.25\n",
    "print(f\"Novo salário: {novo_salario}\")"
   ]
  },
  {
   "cell_type": "markdown",
   "metadata": {},
   "source": [
    "4. Escreva um programa que calcule a área de um círculo, dado o raio."
   ]
  },
  {
   "cell_type": "code",
   "execution_count": null,
   "metadata": {},
   "outputs": [],
   "source": [
    "import math\n",
    "raio = float(input(\"Digite o raio do círculo: \"))\n",
    "area = math.pi * (raio ** 2)\n",
    "print(f\"Área do círculo: {area}\")"
   ]
  },
  {
   "cell_type": "markdown",
   "metadata": {},
   "source": [
    "5. Escreva um programa que calcule quantos degraus uma pessoa precisa subir para alcançar uma certa altura."
   ]
  },
  {
   "cell_type": "code",
   "execution_count": null,
   "metadata": {},
   "outputs": [],
   "source": [
    "altura_degrau = float(input(\"Digite a altura do degrau em cm: \"))\n",
    "altura_desejada = float(input(\"Digite a altura desejada em metros: \"))\n",
    "num_degraus = (altura_desejada * 100) / altura_degrau\n",
    "print(f\"Você precisa subir {num_degraus} degraus\")"
   ]
  },
  {
   "cell_type": "markdown",
   "metadata": {},
   "source": [
    "## Fim da Aula 05a"
   ]
  },
  {
   "cell_type": "markdown",
   "metadata": {},
   "source": [
    "Todos os direitos reservados para (c) Dilermando Piva Junior (2023-25)"
   ]
  }
 ],
 "metadata": {
  "kernelspec": {
   "display_name": "Python 3 (ipykernel)",
   "language": "python",
   "name": "python3"
  },
  "language_info": {
   "codemirror_mode": {
    "name": "ipython",
    "version": 3
   },
   "file_extension": ".py",
   "mimetype": "text/x-python",
   "name": "python",
   "nbconvert_exporter": "python",
   "pygments_lexer": "ipython3",
   "version": "3.11.7"
  }
 },
 "nbformat": 4,
 "nbformat_minor": 4
}
