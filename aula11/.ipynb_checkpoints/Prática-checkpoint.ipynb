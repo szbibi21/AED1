{
 "cells": [
  {
   "cell_type": "code",
   "execution_count": 57,
   "id": "95b372e2-eb6a-49a6-bb2a-d0139bd3aedb",
   "metadata": {},
   "outputs": [],
   "source": [
    "# 1. Ler/armazenar os dados de vendas diárias\n",
    "vendas_agosto = {\n",
    "    \"04/08/2025\": 2350,\n",
    "    \"05/08/2025\": 1980,\n",
    "    \"06/08/2025\": 2540,\n",
    "    \"07/08/2025\": 2100,\n",
    "    \"08/08/2025\": 3050,\n",
    "    \"11/08/2025\": 2650,\n",
    "    \"12/08/2025\": 2180,\n",
    "    \"13/08/2025\": 2760,\n",
    "    \"14/08/2025\": 2920,\n",
    "    \"15/08/2025\": 3100,\n",
    "    \"18/08/2025\": 2300,\n",
    "    \"19/08/2025\": 2430,\n",
    "    \"20/08/2025\": 2210,\n",
    "    \"21/08/2025\": 2790,\n",
    "    \"22/08/2025\": 2970,\n",
    "    \"25/08/2025\": 3100,\n",
    "    \"26/08/2025\": 2880,\n",
    "    \"27/08/2025\": 2600,\n",
    "    \"28/08/2025\": 2500,\n",
    "    \"29/08/2025\": 3400}"
   ]
  },
  {
   "cell_type": "code",
   "execution_count": 59,
   "id": "a97adbec-0c91-4a58-b439-18d133a4c29d",
   "metadata": {},
   "outputs": [
    {
     "name": "stdout",
     "output_type": "stream",
     "text": [
      "Semana 1: 12020\n",
      "Semana 2: 13610\n",
      "Semana 3: 12700\n",
      "Semana 4: 14480\n"
     ]
    }
   ],
   "source": [
    "# Semana 1: 04/08 a 08/08\n",
    "semana1 = [\n",
    "    vendas_agosto[\"04/08/2025\"],\n",
    "    vendas_agosto[\"05/08/2025\"],\n",
    "    vendas_agosto[\"06/08/2025\"],\n",
    "    vendas_agosto[\"07/08/2025\"],\n",
    "    vendas_agosto[\"08/08/2025\"]\n",
    "]\n",
    "total_semana1 = sum(semana1)\n",
    "\n",
    "# Semana 2: 11/08 a 15/08\n",
    "semana2 = [\n",
    "    vendas_agosto[\"11/08/2025\"],\n",
    "    vendas_agosto[\"12/08/2025\"],\n",
    "    vendas_agosto[\"13/08/2025\"],\n",
    "    vendas_agosto[\"14/08/2025\"],\n",
    "    vendas_agosto[\"15/08/2025\"]\n",
    "]\n",
    "total_semana2 = sum(semana2)\n",
    "\n",
    "# Semana 3: 18/08 a 22/08\n",
    "semana3 = [\n",
    "    vendas_agosto[\"18/08/2025\"],\n",
    "    vendas_agosto[\"19/08/2025\"],\n",
    "    vendas_agosto[\"20/08/2025\"],\n",
    "    vendas_agosto[\"21/08/2025\"],\n",
    "    vendas_agosto[\"22/08/2025\"]\n",
    "]\n",
    "total_semana3 = sum(semana3)\n",
    "\n",
    "# Semana 4: 25/08 a 29/08\n",
    "semana4 = [\n",
    "    vendas_agosto[\"25/08/2025\"],\n",
    "    vendas_agosto[\"26/08/2025\"],\n",
    "    vendas_agosto[\"27/08/2025\"],\n",
    "    vendas_agosto[\"28/08/2025\"],\n",
    "    vendas_agosto[\"29/08/2025\"]\n",
    "]\n",
    "total_semana4 = sum(semana4)\n",
    "\n",
    "print(\"Semana 1:\", total_semana1)\n",
    "print(\"Semana 2:\", total_semana2)\n",
    "print(\"Semana 3:\", total_semana3)\n",
    "print(\"Semana 4:\", total_semana4)\n"
   ]
  },
  {
   "cell_type": "code",
   "execution_count": 61,
   "id": "9b9f3690-96da-4a6a-8369-1e01bbbd7fc9",
   "metadata": {},
   "outputs": [
    {
     "name": "stdout",
     "output_type": "stream",
     "text": [
      "Soma total das vendas do mês: 52810\n"
     ]
    }
   ],
   "source": [
    "# 2. Calcular a soma total das vendas.\n",
    "soma_total = sum(vendas_agosto.values())\n",
    "print(\"Soma total das vendas do mês:\", soma_total)"
   ]
  },
  {
   "cell_type": "code",
   "execution_count": 63,
   "id": "e8b93847-7e6e-49b7-9b0d-0b919399113e",
   "metadata": {},
   "outputs": [
    {
     "name": "stdout",
     "output_type": "stream",
     "text": [
      "Média de vendas por dia:  2640.5\n"
     ]
    }
   ],
   "source": [
    "# 3. Calcular a média\n",
    "media = soma_total / len(vendas_agosto)\n",
    "print(\"Média de vendas por dia: \", media)"
   ]
  },
  {
   "cell_type": "code",
   "execution_count": 65,
   "id": "cd1a86c4-4275-4374-8971-4503eff7e8eb",
   "metadata": {},
   "outputs": [
    {
     "name": "stdout",
     "output_type": "stream",
     "text": [
      "Melhor dia: 29/08/2025 com 3400\n"
     ]
    }
   ],
   "source": [
    "# 4. Encontrar o valor máximo de vendas e identificar qual dia corresponde a esse máximo.\n",
    "melhor_dia = \"\"\n",
    "melhor_valor = 0\n",
    "for dia, valor in vendas_agosto.items():\n",
    "    if valor > melhor_valor:\n",
    "        melhor_valor = valor\n",
    "        melhor_dia = dia\n",
    "print(\"Melhor dia:\", melhor_dia, \"com\", melhor_valor)"
   ]
  },
  {
   "cell_type": "code",
   "execution_count": 67,
   "id": "a4dacea2-fe8a-42fa-8ecf-ec00cfdff6df",
   "metadata": {},
   "outputs": [
    {
     "name": "stdout",
     "output_type": "stream",
     "text": [
      "Pior dia: 05/08/2025 com 1980\n"
     ]
    }
   ],
   "source": [
    "# 5. Encontrar o mínimo e seu dia. \n",
    "pior_dia = \"\"\n",
    "pior_valor = melhor_valor\n",
    "for dia, valor in vendas_agosto.items():\n",
    "    if valor < pior_valor:\n",
    "        pior_valor = valor\n",
    "        pior_dia = dia\n",
    "print(\"Pior dia:\", pior_dia, \"com\", pior_valor)"
   ]
  },
  {
   "cell_type": "code",
   "execution_count": 69,
   "id": "6f3c18e9-b301-409a-9cf1-ac3e09751c28",
   "metadata": {},
   "outputs": [
    {
     "name": "stdout",
     "output_type": "stream",
     "text": [
      "Diferença percentual do pico: 28.76349176292369\n"
     ]
    }
   ],
   "source": [
    "# Opcional/Desafio \n",
    "diferenca_percentual = ((melhor_valor - media) / media) * 100\n",
    "print(\"Diferença percentual do pico:\", diferenca_percentual)"
   ]
  },
  {
   "cell_type": "code",
   "execution_count": 53,
   "id": "997395c9-e2dc-480a-89ad-f6909a0b772a",
   "metadata": {},
   "outputs": [
    {
     "ename": "SyntaxError",
     "evalue": "invalid decimal literal (2674235945.py, line 5)",
     "output_type": "error",
     "traceback": [
      "\u001b[1;36m  Cell \u001b[1;32mIn[53], line 5\u001b[1;36m\u001b[0m\n\u001b[1;33m    Média diária de vendas:    {media:.2f}\u001b[0m\n\u001b[1;37m                                       ^\u001b[0m\n\u001b[1;31mSyntaxError\u001b[0m\u001b[1;31m:\u001b[0m invalid decimal literal\n"
     ]
    }
   ],
   "source": [
    "        Loja Vende +\n",
    "----------------------------------------------\n",
    "      RELATÓRIO DE VENDAS\n",
    "----------------------------------------------\n",
    "Total de Vendas do Mês: R$ 52.810,00\n",
    "Total de vendas Semanais:\n",
    "            Semana 1: 12020\n",
    "            Semana 2: 13610\n",
    "            Semana 3: 12700\n",
    "            Semana 4: 14480\n",
    "----------------------------------------------\n",
    "Média de vendas: R$ 2.640,5\n",
    "Melhor Dia de Vendas: 29/08/2025 - R$ 3.400,00\n",
    "----------------------------------------------\n",
    "Pior Dia de Vendas: 05/08/2025 - R$ 1.980,00\n",
    "-----------------------------------------------\n",
    "INSIGHT (DESAFIO OPCIONAL)\n",
    "   O pico de vendas (29/08/2025) foi 28.76% acima da média diária."
   ]
  },
  {
   "cell_type": "code",
   "execution_count": null,
   "id": "cf58f4f3-210c-4373-ac8d-f17d729ce4d1",
   "metadata": {},
   "outputs": [],
   "source": []
  }
 ],
 "metadata": {
  "kernelspec": {
   "display_name": "Python [conda env:anaconda3]",
   "language": "python",
   "name": "conda-env-anaconda3-py"
  },
  "language_info": {
   "codemirror_mode": {
    "name": "ipython",
    "version": 3
   },
   "file_extension": ".py",
   "mimetype": "text/x-python",
   "name": "python",
   "nbconvert_exporter": "python",
   "pygments_lexer": "ipython3",
   "version": "3.13.5"
  }
 },
 "nbformat": 4,
 "nbformat_minor": 5
}
