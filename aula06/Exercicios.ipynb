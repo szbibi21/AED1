{
 "cells": [
  {
   "cell_type": "code",
   "execution_count": 13,
   "id": "48c053d3-2648-43c2-b063-ed0cc4750e45",
   "metadata": {},
   "outputs": [
    {
     "name": "stdin",
     "output_type": "stream",
     "text": [
      "Digite o lado A:  4\n",
      "Digite o lado B:  4\n",
      "Digite o lado C:  5\n"
     ]
    },
    {
     "name": "stdout",
     "output_type": "stream",
     "text": [
      "É um Triângulo Isósceles!!\n"
     ]
    }
   ],
   "source": [
    "# Triangulos...\n",
    "\n",
    "a = float(input(\"Digite o lado A: \"))\n",
    "b = float(input(\"Digite o lado B: \"))\n",
    "c = float(input(\"Digite o lado C: \"))\n",
    "\n",
    "if (a+b>c) and (b+c>a) and (a+c>b):\n",
    "    # É um triangulo\n",
    "    if (a == b == c):\n",
    "        print(\"É um Triângulo Equilátero!!\")\n",
    "    elif (a == b) or (b == c) or (a == c):\n",
    "        print(\"É um Triângulo Isósceles!!\")\n",
    "    else:\n",
    "        print(\"É um Triângulo Escaleno\")\n",
    "else:\n",
    "    print(\"Não é um Triângulo!!\")"
   ]
  },
  {
   "cell_type": "code",
   "execution_count": 5,
   "id": "1b5e44ad-24a1-4c79-9e7f-1ef729c5e838",
   "metadata": {},
   "outputs": [
    {
     "name": "stdout",
     "output_type": "stream",
     "text": [
      "Cálculo de equação de Segundo Grau\n",
      "ax2 + bx + c = 0\n"
     ]
    },
    {
     "name": "stdin",
     "output_type": "stream",
     "text": [
      "Informe o valor de a :  1\n",
      "Informe o valor de b :  -4\n",
      "Informe o valor de c :  4\n"
     ]
    },
    {
     "name": "stdout",
     "output_type": "stream",
     "text": [
      "A equação possui apenas uma raiz\n",
      "Raiz: 2.0\n"
     ]
    }
   ],
   "source": [
    "#Equação do Segundo Grau\n",
    "\n",
    "from math import sqrt, pow\n",
    "\n",
    "print('Cálculo de equação de Segundo Grau')\n",
    "print('ax2 + bx + c = 0')\n",
    "valorA = float(input('Informe o valor de a : '))\n",
    "\n",
    "# Verifica se é uma equação de segundo grau\n",
    "if (valorA == 0):\n",
    "    print('Os valores não formam uma equação de segundo grau')\n",
    "else:\n",
    "    valorB = float(input('Informe o valor de b : '))\n",
    "    valorC = float(input('Informe o valor de c : '))\n",
    "    # Calcula o Delta\n",
    "    delta = pow(valorB, 2) - (4 * valorA * valorC)\n",
    "\n",
    "    if (delta < 0):\n",
    "        print('A equação não possui valores reais.')\n",
    "    elif (delta == 0):\n",
    "        print('A equação possui apenas uma raiz')\n",
    "        raiz = -(valorB) / (2 * valorA)\n",
    "        print('Raiz:', raiz)\n",
    "    else:\n",
    "        print('A equação possui duas raizes')\n",
    "        raiz1 = (-(valorB) + sqrt(delta)) / (2 * valorA)\n",
    "        raiz2 = (-(valorB) - sqrt(delta)) / (2 * valorA)\n",
    "        print('Raiz 1:', raiz1)\n",
    "        print('Raiz 2:', raiz2)\n"
   ]
  },
  {
   "cell_type": "markdown",
   "id": "daedd514-59b8-47f5-975f-cfe436a028a7",
   "metadata": {},
   "source": [
    "# Título"
   ]
  },
  {
   "cell_type": "code",
   "execution_count": null,
   "id": "d549bb05-9db1-4b43-9c86-da181ea64fbc",
   "metadata": {},
   "outputs": [],
   "source": []
  }
 ],
 "metadata": {
  "kernelspec": {
   "display_name": "Python [conda env:base] *",
   "language": "python",
   "name": "conda-base-py"
  },
  "language_info": {
   "codemirror_mode": {
    "name": "ipython",
    "version": 3
   },
   "file_extension": ".py",
   "mimetype": "text/x-python",
   "name": "python",
   "nbconvert_exporter": "python",
   "pygments_lexer": "ipython3",
   "version": "3.12.7"
  }
 },
 "nbformat": 4,
 "nbformat_minor": 5
}
