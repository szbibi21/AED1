{
 "cells": [
  {
   "cell_type": "markdown",
   "metadata": {},
   "source": [
    "![Algoritmos e Estrutura de Dados I](AED1_banner.jpg)"
   ]
  },
  {
   "cell_type": "markdown",
   "metadata": {
    "id": "ReNO9lJn4L5y"
   },
   "source": [
    "## <font color='blue'>Algoritmos e Estrutura de Dados I</font>\n",
    "## <font color='blue'>Aula 3 - Tipos de Dados e Saída em Python </font>\n",
    "\n",
    "---"
   ]
  },
  {
   "cell_type": "code",
   "execution_count": 1,
   "metadata": {
    "colab": {
     "base_uri": "https://localhost:8080/"
    },
    "executionInfo": {
     "elapsed": 310,
     "status": "ok",
     "timestamp": 1725651587859,
     "user": {
      "displayName": "Dilermando Piva Jr",
      "userId": "16956083611737976084"
     },
     "user_tz": 180
    },
    "id": "q8c5qxMb2PR2",
    "outputId": "bd933409-6373-4417-9ef9-37556e2daa60"
   },
   "outputs": [
    {
     "name": "stdout",
     "output_type": "stream",
     "text": [
      "Hello World!\n"
     ]
    }
   ],
   "source": [
    "greetings = \"Hello World!\"\n",
    "print(greetings)"
   ]
  },
  {
   "cell_type": "code",
   "execution_count": 2,
   "metadata": {
    "colab": {
     "base_uri": "https://localhost:8080/",
     "height": 110
    },
    "executionInfo": {
     "elapsed": 419,
     "status": "error",
     "timestamp": 1725651656080,
     "user": {
      "displayName": "Dilermando Piva Jr",
      "userId": "16956083611737976084"
     },
     "user_tz": 180
    },
    "id": "LXHcMAVI2lmt",
    "outputId": "fa4ce040-b5ae-4240-e956-9c6f5bc374d5"
   },
   "outputs": [
    {
     "name": "stdout",
     "output_type": "stream",
     "text": [
      "Dilermando\n"
     ]
    }
   ],
   "source": [
    "first_name = \"Dilermando\"\n",
    "print(first_name)"
   ]
  },
  {
   "cell_type": "code",
   "execution_count": 3,
   "metadata": {
    "colab": {
     "base_uri": "https://localhost:8080/"
    },
    "executionInfo": {
     "elapsed": 312,
     "status": "ok",
     "timestamp": 1725651826858,
     "user": {
      "displayName": "Dilermando Piva Jr",
      "userId": "16956083611737976084"
     },
     "user_tz": 180
    },
    "id": "GXITy_rL3Oyh",
    "outputId": "ef46cdcd-fc58-4a55-af6e-7577a69709a6"
   },
   "outputs": [
    {
     "name": "stdout",
     "output_type": "stream",
     "text": [
      "Dilermando\n"
     ]
    }
   ],
   "source": [
    "first_name = \"Dilermando\"\n",
    "print(first_name)"
   ]
  },
  {
   "cell_type": "code",
   "execution_count": 4,
   "metadata": {
    "id": "hNg1NN_T31_y"
   },
   "outputs": [],
   "source": [
    "age = 53\n",
    "first_name = \"Dilermando\"\n",
    "last_name = \"Piva Jr.\"\n",
    "country = \"Brazil\"\n",
    "phone_number = 999999999"
   ]
  },
  {
   "cell_type": "code",
   "execution_count": 5,
   "metadata": {
    "id": "c54zJJ8ZEfLT"
   },
   "outputs": [],
   "source": [
    "age = 53                   #==> int\n",
    "first_name = \"Dilermando\"  #==> str\n",
    "last_name = \"Piva Jr.\"     #==> str\n",
    "country = \"Brazil\"         #==> str\n",
    "phone_number = 999999999   #==> int\n",
    "weight = 89.2              #==> float\n",
    "married = True             #==> bool"
   ]
  },
  {
   "cell_type": "code",
   "execution_count": 6,
   "metadata": {
    "colab": {
     "base_uri": "https://localhost:8080/"
    },
    "executionInfo": {
     "elapsed": 282,
     "status": "ok",
     "timestamp": 1725655493077,
     "user": {
      "displayName": "Dilermando Piva Jr",
      "userId": "16956083611737976084"
     },
     "user_tz": 180
    },
    "id": "c1BLVG5fFMnL",
    "outputId": "aa5ccde9-5743-4b6a-bf2a-73269c50b420"
   },
   "outputs": [
    {
     "data": {
      "text/plain": [
       "str"
      ]
     },
     "execution_count": 6,
     "metadata": {},
     "output_type": "execute_result"
    }
   ],
   "source": [
    "text = \"Olá! Como você está?\"\n",
    "type(text)"
   ]
  },
  {
   "cell_type": "code",
   "execution_count": 7,
   "metadata": {
    "colab": {
     "base_uri": "https://localhost:8080/"
    },
    "executionInfo": {
     "elapsed": 285,
     "status": "ok",
     "timestamp": 1725655567498,
     "user": {
      "displayName": "Dilermando Piva Jr",
      "userId": "16956083611737976084"
     },
     "user_tz": 180
    },
    "id": "klh6TFW1FhzY",
    "outputId": "713a83ec-7f35-4e6c-e2ba-1c17cd62a1fb"
   },
   "outputs": [
    {
     "name": "stdout",
     "output_type": "stream",
     "text": [
      "<class 'str'>\n"
     ]
    }
   ],
   "source": [
    "print(type(text))"
   ]
  },
  {
   "cell_type": "code",
   "execution_count": 8,
   "metadata": {
    "colab": {
     "base_uri": "https://localhost:8080/"
    },
    "executionInfo": {
     "elapsed": 313,
     "status": "ok",
     "timestamp": 1725655710786,
     "user": {
      "displayName": "Dilermando Piva Jr",
      "userId": "16956083611737976084"
     },
     "user_tz": 180
    },
    "id": "xwmwVNDgGFK9",
    "outputId": "ac2c4e62-9db1-44d1-81bd-4cad05f43831"
   },
   "outputs": [
    {
     "data": {
      "text/plain": [
       "int"
      ]
     },
     "execution_count": 8,
     "metadata": {},
     "output_type": "execute_result"
    }
   ],
   "source": [
    "number = 123\n",
    "type(number)"
   ]
  },
  {
   "cell_type": "code",
   "execution_count": 9,
   "metadata": {
    "colab": {
     "base_uri": "https://localhost:8080/"
    },
    "executionInfo": {
     "elapsed": 288,
     "status": "ok",
     "timestamp": 1725655938715,
     "user": {
      "displayName": "Dilermando Piva Jr",
      "userId": "16956083611737976084"
     },
     "user_tz": 180
    },
    "id": "gQhcSvocGma9",
    "outputId": "896854a5-1886-48ff-d395-2fff118e155c"
   },
   "outputs": [
    {
     "data": {
      "text/plain": [
       "float"
      ]
     },
     "execution_count": 9,
     "metadata": {},
     "output_type": "execute_result"
    }
   ],
   "source": [
    "decimal_number = 0.3333\n",
    "type(decimal_number)"
   ]
  },
  {
   "cell_type": "code",
   "execution_count": 11,
   "metadata": {
    "colab": {
     "base_uri": "https://localhost:8080/"
    },
    "executionInfo": {
     "elapsed": 299,
     "status": "ok",
     "timestamp": 1725655993923,
     "user": {
      "displayName": "Dilermando Piva Jr",
      "userId": "16956083611737976084"
     },
     "user_tz": 180
    },
    "id": "G4Z-nN3LHKxD",
    "outputId": "8ce335a0-93a2-4371-a1a2-e9e3d7726cea"
   },
   "outputs": [
    {
     "data": {
      "text/plain": [
       "bool"
      ]
     },
     "execution_count": 11,
     "metadata": {},
     "output_type": "execute_result"
    }
   ],
   "source": [
    "boolean = True\n",
    "type(boolean)"
   ]
  },
  {
   "cell_type": "markdown",
   "metadata": {
    "id": "cYgKxP9I43yh"
   },
   "source": [
    "## Final Aula 3"
   ]
  },
  {
   "cell_type": "markdown",
   "metadata": {
    "id": "cYgKxP9I43yh"
   },
   "source": [
    "## PRATICA"
   ]
  },
  {
   "cell_type": "code",
   "execution_count": 12,
   "metadata": {},
   "outputs": [
    {
     "name": "stdout",
     "output_type": "stream",
     "text": [
      "4\n"
     ]
    }
   ],
   "source": [
    "print (2+2)"
   ]
  },
  {
   "cell_type": "code",
   "execution_count": 13,
   "metadata": {},
   "outputs": [],
   "source": [
    "nome = \"Sabrina\"\n",
    "idade = 22\n",
    "resultado_soma = 5 + 5"
   ]
  },
  {
   "cell_type": "code",
   "execution_count": 17,
   "metadata": {},
   "outputs": [
    {
     "name": "stdout",
     "output_type": "stream",
     "text": [
      "Sabrina\n"
     ]
    }
   ],
   "source": [
    "  print(nome)"
   ]
  },
  {
   "cell_type": "code",
   "execution_count": 18,
   "metadata": {},
   "outputs": [
    {
     "name": "stdout",
     "output_type": "stream",
     "text": [
      "22\n"
     ]
    }
   ],
   "source": [
    "print (idade)"
   ]
  },
  {
   "cell_type": "code",
   "execution_count": 20,
   "metadata": {},
   "outputs": [
    {
     "name": "stdout",
     "output_type": "stream",
     "text": [
      "10\n"
     ]
    }
   ],
   "source": [
    "print (resultado_soma)"
   ]
  },
  {
   "cell_type": "code",
   "execution_count": 21,
   "metadata": {},
   "outputs": [
    {
     "name": "stdout",
     "output_type": "stream",
     "text": [
      "4\n"
     ]
    }
   ],
   "source": [
    "print (2+2)"
   ]
  }
 ],
 "metadata": {
  "colab": {
   "authorship_tag": "ABX9TyPf9i54WVVOX2Upz0zan0W7",
   "provenance": []
  },
  "kernelspec": {
   "display_name": "Python [conda env:base] *",
   "language": "python",
   "name": "conda-base-py"
  },
  "language_info": {
   "codemirror_mode": {
    "name": "ipython",
    "version": 3
   },
   "file_extension": ".py",
   "mimetype": "text/x-python",
   "name": "python",
   "nbconvert_exporter": "python",
   "pygments_lexer": "ipython3",
   "version": "3.13.5"
  }
 },
 "nbformat": 4,
 "nbformat_minor": 4
}
