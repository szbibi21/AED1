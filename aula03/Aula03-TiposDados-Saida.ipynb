{
 "cells": [
  {
   "cell_type": "markdown",
   "metadata": {},
   "source": [
    "![Algoritmos e Estrutura de Dados I](AED1_banner.jpg)"
   ]
  },
  {
   "cell_type": "markdown",
   "metadata": {
    "id": "ReNO9lJn4L5y"
   },
   "source": [
    "## <font color='blue'>Algoritmos e Estrutura de Dados I</font>\n",
    "## <font color='blue'>Aula 3 - Tipos de Dados e Saída em Python </font>\n",
    "\n",
    "---"
   ]
  },
  {
   "cell_type": "code",
   "execution_count": null,
   "metadata": {
    "colab": {
     "base_uri": "https://localhost:8080/"
    },
    "executionInfo": {
     "elapsed": 310,
     "status": "ok",
     "timestamp": 1725651587859,
     "user": {
      "displayName": "Dilermando Piva Jr",
      "userId": "16956083611737976084"
     },
     "user_tz": 180
    },
    "id": "q8c5qxMb2PR2",
    "outputId": "bd933409-6373-4417-9ef9-37556e2daa60"
   },
   "outputs": [
    {
     "name": "stdout",
     "output_type": "stream",
     "text": [
      "Hello World!\n"
     ]
    }
   ],
   "source": [
    "greetings = \"Hello World!\"\n",
    "print(greetings)"
   ]
  },
  {
   "cell_type": "code",
   "execution_count": null,
   "metadata": {
    "colab": {
     "base_uri": "https://localhost:8080/",
     "height": 110
    },
    "executionInfo": {
     "elapsed": 419,
     "status": "error",
     "timestamp": 1725651656080,
     "user": {
      "displayName": "Dilermando Piva Jr",
      "userId": "16956083611737976084"
     },
     "user_tz": 180
    },
    "id": "LXHcMAVI2lmt",
    "outputId": "fa4ce040-b5ae-4240-e956-9c6f5bc374d5"
   },
   "outputs": [
    {
     "ename": "SyntaxError",
     "evalue": "invalid syntax (<ipython-input-4-831e44a3f15f>, line 1)",
     "output_type": "error",
     "traceback": [
      "\u001b[0;36m  File \u001b[0;32m\"<ipython-input-4-831e44a3f15f>\"\u001b[0;36m, line \u001b[0;32m1\u001b[0m\n\u001b[0;31m    first name = \"Dilermando\"\u001b[0m\n\u001b[0m          ^\u001b[0m\n\u001b[0;31mSyntaxError\u001b[0m\u001b[0;31m:\u001b[0m invalid syntax\n"
     ]
    }
   ],
   "source": [
    "first name = \"Dilermando\"\n",
    "print(first name)"
   ]
  },
  {
   "cell_type": "code",
   "execution_count": null,
   "metadata": {
    "colab": {
     "base_uri": "https://localhost:8080/"
    },
    "executionInfo": {
     "elapsed": 312,
     "status": "ok",
     "timestamp": 1725651826858,
     "user": {
      "displayName": "Dilermando Piva Jr",
      "userId": "16956083611737976084"
     },
     "user_tz": 180
    },
    "id": "GXITy_rL3Oyh",
    "outputId": "ef46cdcd-fc58-4a55-af6e-7577a69709a6"
   },
   "outputs": [
    {
     "name": "stdout",
     "output_type": "stream",
     "text": [
      "Dilermando\n"
     ]
    }
   ],
   "source": [
    "first_name = \"Dilermando\"\n",
    "print(first_name)"
   ]
  },
  {
   "cell_type": "code",
   "execution_count": null,
   "metadata": {
    "id": "hNg1NN_T31_y"
   },
   "outputs": [],
   "source": [
    "age = 53\n",
    "first_name = \"Dilermando\"\n",
    "last_name = \"Piva Jr.\"\n",
    "country = \"Brazil\"\n",
    "phone_number = 999999999"
   ]
  },
  {
   "cell_type": "code",
   "execution_count": null,
   "metadata": {
    "id": "c54zJJ8ZEfLT"
   },
   "outputs": [],
   "source": [
    "age = 53                   #==> int\n",
    "first_name = \"Dilermando\"  #==> str\n",
    "last_name = \"Piva Jr.\"     #==> str\n",
    "country = \"Brazil\"         #==> str\n",
    "phone_number = 999999999   #==> int\n",
    "weight = 89.2              #==> float\n",
    "married = True             #==> bool"
   ]
  },
  {
   "cell_type": "code",
   "execution_count": null,
   "metadata": {
    "colab": {
     "base_uri": "https://localhost:8080/"
    },
    "executionInfo": {
     "elapsed": 282,
     "status": "ok",
     "timestamp": 1725655493077,
     "user": {
      "displayName": "Dilermando Piva Jr",
      "userId": "16956083611737976084"
     },
     "user_tz": 180
    },
    "id": "c1BLVG5fFMnL",
    "outputId": "aa5ccde9-5743-4b6a-bf2a-73269c50b420"
   },
   "outputs": [
    {
     "data": {
      "text/plain": [
       "str"
      ]
     },
     "execution_count": 7,
     "metadata": {},
     "output_type": "execute_result"
    }
   ],
   "source": [
    "text = \"Olá! Como você está?\"\n",
    "type(text)"
   ]
  },
  {
   "cell_type": "code",
   "execution_count": null,
   "metadata": {
    "colab": {
     "base_uri": "https://localhost:8080/"
    },
    "executionInfo": {
     "elapsed": 285,
     "status": "ok",
     "timestamp": 1725655567498,
     "user": {
      "displayName": "Dilermando Piva Jr",
      "userId": "16956083611737976084"
     },
     "user_tz": 180
    },
    "id": "klh6TFW1FhzY",
    "outputId": "713a83ec-7f35-4e6c-e2ba-1c17cd62a1fb"
   },
   "outputs": [
    {
     "name": "stdout",
     "output_type": "stream",
     "text": [
      "<class 'str'>\n"
     ]
    }
   ],
   "source": [
    "print(type(text))"
   ]
  },
  {
   "cell_type": "code",
   "execution_count": null,
   "metadata": {
    "colab": {
     "base_uri": "https://localhost:8080/"
    },
    "executionInfo": {
     "elapsed": 313,
     "status": "ok",
     "timestamp": 1725655710786,
     "user": {
      "displayName": "Dilermando Piva Jr",
      "userId": "16956083611737976084"
     },
     "user_tz": 180
    },
    "id": "xwmwVNDgGFK9",
    "outputId": "ac2c4e62-9db1-44d1-81bd-4cad05f43831"
   },
   "outputs": [
    {
     "data": {
      "text/plain": [
       "int"
      ]
     },
     "execution_count": 9,
     "metadata": {},
     "output_type": "execute_result"
    }
   ],
   "source": [
    "number = 123\n",
    "type(number)"
   ]
  },
  {
   "cell_type": "code",
   "execution_count": null,
   "metadata": {
    "colab": {
     "base_uri": "https://localhost:8080/"
    },
    "executionInfo": {
     "elapsed": 288,
     "status": "ok",
     "timestamp": 1725655938715,
     "user": {
      "displayName": "Dilermando Piva Jr",
      "userId": "16956083611737976084"
     },
     "user_tz": 180
    },
    "id": "gQhcSvocGma9",
    "outputId": "896854a5-1886-48ff-d395-2fff118e155c"
   },
   "outputs": [
    {
     "data": {
      "text/plain": [
       "float"
      ]
     },
     "execution_count": 10,
     "metadata": {},
     "output_type": "execute_result"
    }
   ],
   "source": [
    "decimal_number = 0.3333\n",
    "type(decimal_number)"
   ]
  },
  {
   "cell_type": "code",
   "execution_count": null,
   "metadata": {
    "colab": {
     "base_uri": "https://localhost:8080/"
    },
    "executionInfo": {
     "elapsed": 299,
     "status": "ok",
     "timestamp": 1725655993923,
     "user": {
      "displayName": "Dilermando Piva Jr",
      "userId": "16956083611737976084"
     },
     "user_tz": 180
    },
    "id": "G4Z-nN3LHKxD",
    "outputId": "8ce335a0-93a2-4371-a1a2-e9e3d7726cea"
   },
   "outputs": [
    {
     "data": {
      "text/plain": [
       "bool"
      ]
     },
     "execution_count": 11,
     "metadata": {},
     "output_type": "execute_result"
    }
   ],
   "source": [
    "boolean = True\n",
    "type(boolean)"
   ]
  },
  {
   "cell_type": "markdown",
   "metadata": {
    "id": "cYgKxP9I43yh"
   },
   "source": [
    "## Final Aula 3"
   ]
  }
 ],
 "metadata": {
  "colab": {
   "authorship_tag": "ABX9TyPf9i54WVVOX2Upz0zan0W7",
   "provenance": []
  },
  "kernelspec": {
   "display_name": "Python 3",
   "name": "python3"
  },
  "language_info": {
   "name": "python"
  }
 },
 "nbformat": 4,
 "nbformat_minor": 0
}
